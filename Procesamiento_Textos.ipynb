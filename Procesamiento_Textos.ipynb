{
  "cells": [
    {
      "cell_type": "markdown",
      "id": "4b00f678-39f7-4be2-aa51-cc4737fcd1a0",
      "metadata": {
        "id": "4b00f678-39f7-4be2-aa51-cc4737fcd1a0"
      },
      "source": [
        "# Proyecto de Análisis y Procesamiento Inteligente de Textos"
      ]
    },
    {
      "cell_type": "markdown",
      "source": [
        "Autores:\n",
        "- Manzanares Peña Jorge Luis\n",
        "- Reyes Ávila David\n",
        "- Salazar Domínguez Jesús Eduardo\n",
        "- Salinas Romero Daniel\n",
        "- Shen Shuai"
      ],
      "metadata": {
        "id": "vMg273Rl6ob5"
      },
      "id": "vMg273Rl6ob5"
    },
    {
      "cell_type": "markdown",
      "source": [
        "Fuente Dataset:\n",
        "- https://www.kaggle.com/datasets/amananandrai/ag-news-classification-dataset?select=train.csv\n",
        "\n",
        "IDs de las categorías de noticias:\n",
        "- 0: Internacionales\n",
        "- 1: Deportes\n",
        "- 2: Negocios\n",
        "- 3: Ciencia y Tecnología\n"
      ],
      "metadata": {
        "id": "-4mIMVbOqH-P"
      },
      "id": "-4mIMVbOqH-P"
    },
    {
      "cell_type": "markdown",
      "id": "9d1cd0c3-599d-4c44-a4df-fb42b5f49bb1",
      "metadata": {
        "id": "9d1cd0c3-599d-4c44-a4df-fb42b5f49bb1"
      },
      "source": [
        "## Preprocesamiento"
      ]
    },
    {
      "cell_type": "markdown",
      "source": [
        "- Importación de bibliotecas"
      ],
      "metadata": {
        "id": "CzkGHPJkKteJ"
      },
      "id": "CzkGHPJkKteJ"
    },
    {
      "cell_type": "code",
      "execution_count": null,
      "id": "d1458c2c-1dfe-4638-8655-a28df1ccd4ef",
      "metadata": {
        "id": "d1458c2c-1dfe-4638-8655-a28df1ccd4ef"
      },
      "outputs": [],
      "source": [
        "import pandas as pd\n",
        "import string\n",
        "import sklearn as sk\n",
        "from sklearn.metrics import multilabel_confusion_matrix\n",
        "from sklearn.metrics import ConfusionMatrixDisplay\n",
        "from sklearn.metrics import confusion_matrix\n",
        "import matplotlib.pyplot as plot\n",
        "from sklearn.metrics import classification_report\n",
        "import numpy as np\n",
        "import os\n",
        "os.environ['TF_CPP_MIN_LOG_LEVEL'] = '3' # Disable tensorflow debugging logs\n",
        "import tensorflow as tf\n",
        "from tensorflow.keras.layers import TextVectorization\n",
        "from tensorflow.keras import Sequential\n",
        "from tensorflow.keras import layers \n",
        "import re"
      ]
    },
    {
      "cell_type": "markdown",
      "source": [
        "- Descarga de archivos desde Github."
      ],
      "metadata": {
        "id": "v1x5uMQ2JDVo"
      },
      "id": "v1x5uMQ2JDVo"
    },
    {
      "cell_type": "code",
      "execution_count": null,
      "metadata": {
        "colab": {
          "base_uri": "https://localhost:8080/"
        },
        "id": "c1odpDuwA2PO",
        "outputId": "e786ce8b-7f88-4901-82fb-1414249e0987"
      },
      "outputs": [
        {
          "output_type": "stream",
          "name": "stdout",
          "text": [
            "--2023-06-07 18:20:25--  https://raw.githubusercontent.com/JesusESD/ProyectoAPIT/main/Data/test.csv\n",
            "Resolving raw.githubusercontent.com (raw.githubusercontent.com)... 185.199.108.133, 185.199.109.133, 185.199.110.133, ...\n",
            "Connecting to raw.githubusercontent.com (raw.githubusercontent.com)|185.199.108.133|:443... connected.\n",
            "HTTP request sent, awaiting response... 200 OK\n",
            "Length: 1831783 (1.7M) [text/plain]\n",
            "Saving to: ‘test.csv’\n",
            "\n",
            "test.csv            100%[===================>]   1.75M  --.-KB/s    in 0.03s   \n",
            "\n",
            "2023-06-07 18:20:26 (51.7 MB/s) - ‘test.csv’ saved [1831783/1831783]\n",
            "\n",
            "--2023-06-07 18:20:26--  https://raw.githubusercontent.com/JesusESD/ProyectoAPIT/main/Data/train.csv\n",
            "Resolving raw.githubusercontent.com (raw.githubusercontent.com)... 185.199.108.133, 185.199.109.133, 185.199.110.133, ...\n",
            "Connecting to raw.githubusercontent.com (raw.githubusercontent.com)|185.199.108.133|:443... connected.\n",
            "HTTP request sent, awaiting response... 200 OK\n",
            "Length: 27234338 (26M) [text/plain]\n",
            "Saving to: ‘train.csv’\n",
            "\n",
            "train.csv           100%[===================>]  25.97M  --.-KB/s    in 0.09s   \n",
            "\n",
            "2023-06-07 18:20:26 (285 MB/s) - ‘train.csv’ saved [27234338/27234338]\n",
            "\n",
            "--2023-06-07 18:20:26--  https://raw.githubusercontent.com/JesusESD/ProyectoAPIT/main/Data/val.csv\n",
            "Resolving raw.githubusercontent.com (raw.githubusercontent.com)... 185.199.108.133, 185.199.109.133, 185.199.110.133, ...\n",
            "Connecting to raw.githubusercontent.com (raw.githubusercontent.com)|185.199.108.133|:443... connected.\n",
            "HTTP request sent, awaiting response... 200 OK\n",
            "Length: 1825073 (1.7M) [text/plain]\n",
            "Saving to: ‘val.csv’\n",
            "\n",
            "val.csv             100%[===================>]   1.74M  --.-KB/s    in 0.04s   \n",
            "\n",
            "2023-06-07 18:20:27 (45.2 MB/s) - ‘val.csv’ saved [1825073/1825073]\n",
            "\n"
          ]
        }
      ],
      "source": [
        "!wget -O test.csv   https://raw.githubusercontent.com/JesusESD/ProyectoAPIT/main/Data/test.csv\n",
        "!wget -O train.csv  https://raw.githubusercontent.com/JesusESD/ProyectoAPIT/main/Data/train.csv \n",
        "!wget -O val.csv    https://raw.githubusercontent.com/JesusESD/ProyectoAPIT/main/Data/val.csv"
      ],
      "id": "c1odpDuwA2PO"
    },
    {
      "cell_type": "markdown",
      "source": [
        "- Definición y muestra de los dataframes para entrenamiento (train-df), validación (val_df) y evaluación (test_df)."
      ],
      "metadata": {
        "id": "xYznAJbzJOqX"
      },
      "id": "xYznAJbzJOqX"
    },
    {
      "cell_type": "code",
      "execution_count": null,
      "id": "6f850e02-db52-441f-99dd-41a7e08b594c",
      "metadata": {
        "id": "6f850e02-db52-441f-99dd-41a7e08b594c"
      },
      "outputs": [],
      "source": [
        "test_df  = pd.read_csv('test.csv')  \n",
        "train_df = pd.read_csv('train.csv')  \n",
        "val_df   = pd.read_csv('val.csv')  "
      ]
    },
    {
      "cell_type": "code",
      "execution_count": null,
      "id": "35f0db65-4358-4f2b-baa7-3cf6250519ee",
      "metadata": {
        "colab": {
          "base_uri": "https://localhost:8080/"
        },
        "id": "35f0db65-4358-4f2b-baa7-3cf6250519ee",
        "outputId": "e58a2e9a-c9b2-4f44-fff8-dbb06e776e9c"
      },
      "outputs": [
        {
          "output_type": "execute_result",
          "data": {
            "text/plain": [
              "   Class                                              Title  \\\n",
              "0      3  Wall St. Bears Claw Back Into the Black (Reuters)   \n",
              "1      3  Carlyle Looks Toward Commercial Aerospace (Reu...   \n",
              "2      3    Oil and Economy Cloud Stocks' Outlook (Reuters)   \n",
              "3      3  Iraq Halts Oil Exports from Main Southern Pipe...   \n",
              "4      3  Oil prices soar to all-time record, posing new...   \n",
              "\n",
              "                                         Description  \n",
              "0  Reuters - Short-sellers, Wall Street's dwindli...  \n",
              "1  Reuters - Private investment firm Carlyle Grou...  \n",
              "2  Reuters - Soaring crude prices plus worries\\ab...  \n",
              "3  Reuters - Authorities have halted oil export\\f...  \n",
              "4  AFP - Tearaway world oil prices, toppling reco...  "
            ],
            "text/html": [
              "\n",
              "  <div id=\"df-97a81470-d264-4e12-93f9-2d1ca64a6a9a\">\n",
              "    <div class=\"colab-df-container\">\n",
              "      <div>\n",
              "<style scoped>\n",
              "    .dataframe tbody tr th:only-of-type {\n",
              "        vertical-align: middle;\n",
              "    }\n",
              "\n",
              "    .dataframe tbody tr th {\n",
              "        vertical-align: top;\n",
              "    }\n",
              "\n",
              "    .dataframe thead th {\n",
              "        text-align: right;\n",
              "    }\n",
              "</style>\n",
              "<table border=\"1\" class=\"dataframe\">\n",
              "  <thead>\n",
              "    <tr style=\"text-align: right;\">\n",
              "      <th></th>\n",
              "      <th>Class</th>\n",
              "      <th>Title</th>\n",
              "      <th>Description</th>\n",
              "    </tr>\n",
              "  </thead>\n",
              "  <tbody>\n",
              "    <tr>\n",
              "      <th>0</th>\n",
              "      <td>3</td>\n",
              "      <td>Wall St. Bears Claw Back Into the Black (Reuters)</td>\n",
              "      <td>Reuters - Short-sellers, Wall Street's dwindli...</td>\n",
              "    </tr>\n",
              "    <tr>\n",
              "      <th>1</th>\n",
              "      <td>3</td>\n",
              "      <td>Carlyle Looks Toward Commercial Aerospace (Reu...</td>\n",
              "      <td>Reuters - Private investment firm Carlyle Grou...</td>\n",
              "    </tr>\n",
              "    <tr>\n",
              "      <th>2</th>\n",
              "      <td>3</td>\n",
              "      <td>Oil and Economy Cloud Stocks' Outlook (Reuters)</td>\n",
              "      <td>Reuters - Soaring crude prices plus worries\\ab...</td>\n",
              "    </tr>\n",
              "    <tr>\n",
              "      <th>3</th>\n",
              "      <td>3</td>\n",
              "      <td>Iraq Halts Oil Exports from Main Southern Pipe...</td>\n",
              "      <td>Reuters - Authorities have halted oil export\\f...</td>\n",
              "    </tr>\n",
              "    <tr>\n",
              "      <th>4</th>\n",
              "      <td>3</td>\n",
              "      <td>Oil prices soar to all-time record, posing new...</td>\n",
              "      <td>AFP - Tearaway world oil prices, toppling reco...</td>\n",
              "    </tr>\n",
              "  </tbody>\n",
              "</table>\n",
              "</div>\n",
              "      <button class=\"colab-df-convert\" onclick=\"convertToInteractive('df-97a81470-d264-4e12-93f9-2d1ca64a6a9a')\"\n",
              "              title=\"Convert this dataframe to an interactive table.\"\n",
              "              style=\"display:none;\">\n",
              "        \n",
              "  <svg xmlns=\"http://www.w3.org/2000/svg\" height=\"24px\"viewBox=\"0 0 24 24\"\n",
              "       width=\"24px\">\n",
              "    <path d=\"M0 0h24v24H0V0z\" fill=\"none\"/>\n",
              "    <path d=\"M18.56 5.44l.94 2.06.94-2.06 2.06-.94-2.06-.94-.94-2.06-.94 2.06-2.06.94zm-11 1L8.5 8.5l.94-2.06 2.06-.94-2.06-.94L8.5 2.5l-.94 2.06-2.06.94zm10 10l.94 2.06.94-2.06 2.06-.94-2.06-.94-.94-2.06-.94 2.06-2.06.94z\"/><path d=\"M17.41 7.96l-1.37-1.37c-.4-.4-.92-.59-1.43-.59-.52 0-1.04.2-1.43.59L10.3 9.45l-7.72 7.72c-.78.78-.78 2.05 0 2.83L4 21.41c.39.39.9.59 1.41.59.51 0 1.02-.2 1.41-.59l7.78-7.78 2.81-2.81c.8-.78.8-2.07 0-2.86zM5.41 20L4 18.59l7.72-7.72 1.47 1.35L5.41 20z\"/>\n",
              "  </svg>\n",
              "      </button>\n",
              "      \n",
              "  <style>\n",
              "    .colab-df-container {\n",
              "      display:flex;\n",
              "      flex-wrap:wrap;\n",
              "      gap: 12px;\n",
              "    }\n",
              "\n",
              "    .colab-df-convert {\n",
              "      background-color: #E8F0FE;\n",
              "      border: none;\n",
              "      border-radius: 50%;\n",
              "      cursor: pointer;\n",
              "      display: none;\n",
              "      fill: #1967D2;\n",
              "      height: 32px;\n",
              "      padding: 0 0 0 0;\n",
              "      width: 32px;\n",
              "    }\n",
              "\n",
              "    .colab-df-convert:hover {\n",
              "      background-color: #E2EBFA;\n",
              "      box-shadow: 0px 1px 2px rgba(60, 64, 67, 0.3), 0px 1px 3px 1px rgba(60, 64, 67, 0.15);\n",
              "      fill: #174EA6;\n",
              "    }\n",
              "\n",
              "    [theme=dark] .colab-df-convert {\n",
              "      background-color: #3B4455;\n",
              "      fill: #D2E3FC;\n",
              "    }\n",
              "\n",
              "    [theme=dark] .colab-df-convert:hover {\n",
              "      background-color: #434B5C;\n",
              "      box-shadow: 0px 1px 3px 1px rgba(0, 0, 0, 0.15);\n",
              "      filter: drop-shadow(0px 1px 2px rgba(0, 0, 0, 0.3));\n",
              "      fill: #FFFFFF;\n",
              "    }\n",
              "  </style>\n",
              "\n",
              "      <script>\n",
              "        const buttonEl =\n",
              "          document.querySelector('#df-97a81470-d264-4e12-93f9-2d1ca64a6a9a button.colab-df-convert');\n",
              "        buttonEl.style.display =\n",
              "          google.colab.kernel.accessAllowed ? 'block' : 'none';\n",
              "\n",
              "        async function convertToInteractive(key) {\n",
              "          const element = document.querySelector('#df-97a81470-d264-4e12-93f9-2d1ca64a6a9a');\n",
              "          const dataTable =\n",
              "            await google.colab.kernel.invokeFunction('convertToInteractive',\n",
              "                                                     [key], {});\n",
              "          if (!dataTable) return;\n",
              "\n",
              "          const docLinkHtml = 'Like what you see? Visit the ' +\n",
              "            '<a target=\"_blank\" href=https://colab.research.google.com/notebooks/data_table.ipynb>data table notebook</a>'\n",
              "            + ' to learn more about interactive tables.';\n",
              "          element.innerHTML = '';\n",
              "          dataTable['output_type'] = 'display_data';\n",
              "          await google.colab.output.renderOutput(dataTable, element);\n",
              "          const docLink = document.createElement('div');\n",
              "          docLink.innerHTML = docLinkHtml;\n",
              "          element.appendChild(docLink);\n",
              "        }\n",
              "      </script>\n",
              "    </div>\n",
              "  </div>\n",
              "  "
            ]
          },
          "metadata": {},
          "execution_count": 75
        }
      ],
      "source": [
        "train_df.head()"
      ]
    },
    {
      "cell_type": "code",
      "source": [
        "val_df.head()"
      ],
      "metadata": {
        "colab": {
          "base_uri": "https://localhost:8080/"
        },
        "id": "oMDaBlG0lkOm",
        "outputId": "ef818564-e5e0-4b4d-ca29-bd6e2106dc46"
      },
      "id": "oMDaBlG0lkOm",
      "execution_count": null,
      "outputs": [
        {
          "output_type": "execute_result",
          "data": {
            "text/plain": [
              "   Class                                              Title  \\\n",
              "0      3  Permira links with Apollo to join Toys  #39;R ...   \n",
              "1      3                3Com to buy TippingPoint for \\$430M   \n",
              "2      3            Icahn Files Suit vs. Mylan Laboratories   \n",
              "3      3  Fiat dismisses GM threat that car unit might g...   \n",
              "4      4  NASA: Mondays The Best Time To See Geminid Met...   \n",
              "\n",
              "                                         Description  \n",
              "0  Permira, the private equity firm that owns New...  \n",
              "1  DECEMBER 13, 2004 (IDG NEWS SERVICE) - 3Com Co...  \n",
              "2  Billionaire investor Carl Icahn filed a federa...  \n",
              "3  Fiat threw down the gauntlet to General Motors...  \n",
              "4  Stargazers can catch a spectacular sight if th...  "
            ],
            "text/html": [
              "\n",
              "  <div id=\"df-2ae1b33b-d3ff-4754-b733-5a2513dbfa30\">\n",
              "    <div class=\"colab-df-container\">\n",
              "      <div>\n",
              "<style scoped>\n",
              "    .dataframe tbody tr th:only-of-type {\n",
              "        vertical-align: middle;\n",
              "    }\n",
              "\n",
              "    .dataframe tbody tr th {\n",
              "        vertical-align: top;\n",
              "    }\n",
              "\n",
              "    .dataframe thead th {\n",
              "        text-align: right;\n",
              "    }\n",
              "</style>\n",
              "<table border=\"1\" class=\"dataframe\">\n",
              "  <thead>\n",
              "    <tr style=\"text-align: right;\">\n",
              "      <th></th>\n",
              "      <th>Class</th>\n",
              "      <th>Title</th>\n",
              "      <th>Description</th>\n",
              "    </tr>\n",
              "  </thead>\n",
              "  <tbody>\n",
              "    <tr>\n",
              "      <th>0</th>\n",
              "      <td>3</td>\n",
              "      <td>Permira links with Apollo to join Toys  #39;R ...</td>\n",
              "      <td>Permira, the private equity firm that owns New...</td>\n",
              "    </tr>\n",
              "    <tr>\n",
              "      <th>1</th>\n",
              "      <td>3</td>\n",
              "      <td>3Com to buy TippingPoint for \\$430M</td>\n",
              "      <td>DECEMBER 13, 2004 (IDG NEWS SERVICE) - 3Com Co...</td>\n",
              "    </tr>\n",
              "    <tr>\n",
              "      <th>2</th>\n",
              "      <td>3</td>\n",
              "      <td>Icahn Files Suit vs. Mylan Laboratories</td>\n",
              "      <td>Billionaire investor Carl Icahn filed a federa...</td>\n",
              "    </tr>\n",
              "    <tr>\n",
              "      <th>3</th>\n",
              "      <td>3</td>\n",
              "      <td>Fiat dismisses GM threat that car unit might g...</td>\n",
              "      <td>Fiat threw down the gauntlet to General Motors...</td>\n",
              "    </tr>\n",
              "    <tr>\n",
              "      <th>4</th>\n",
              "      <td>4</td>\n",
              "      <td>NASA: Mondays The Best Time To See Geminid Met...</td>\n",
              "      <td>Stargazers can catch a spectacular sight if th...</td>\n",
              "    </tr>\n",
              "  </tbody>\n",
              "</table>\n",
              "</div>\n",
              "      <button class=\"colab-df-convert\" onclick=\"convertToInteractive('df-2ae1b33b-d3ff-4754-b733-5a2513dbfa30')\"\n",
              "              title=\"Convert this dataframe to an interactive table.\"\n",
              "              style=\"display:none;\">\n",
              "        \n",
              "  <svg xmlns=\"http://www.w3.org/2000/svg\" height=\"24px\"viewBox=\"0 0 24 24\"\n",
              "       width=\"24px\">\n",
              "    <path d=\"M0 0h24v24H0V0z\" fill=\"none\"/>\n",
              "    <path d=\"M18.56 5.44l.94 2.06.94-2.06 2.06-.94-2.06-.94-.94-2.06-.94 2.06-2.06.94zm-11 1L8.5 8.5l.94-2.06 2.06-.94-2.06-.94L8.5 2.5l-.94 2.06-2.06.94zm10 10l.94 2.06.94-2.06 2.06-.94-2.06-.94-.94-2.06-.94 2.06-2.06.94z\"/><path d=\"M17.41 7.96l-1.37-1.37c-.4-.4-.92-.59-1.43-.59-.52 0-1.04.2-1.43.59L10.3 9.45l-7.72 7.72c-.78.78-.78 2.05 0 2.83L4 21.41c.39.39.9.59 1.41.59.51 0 1.02-.2 1.41-.59l7.78-7.78 2.81-2.81c.8-.78.8-2.07 0-2.86zM5.41 20L4 18.59l7.72-7.72 1.47 1.35L5.41 20z\"/>\n",
              "  </svg>\n",
              "      </button>\n",
              "      \n",
              "  <style>\n",
              "    .colab-df-container {\n",
              "      display:flex;\n",
              "      flex-wrap:wrap;\n",
              "      gap: 12px;\n",
              "    }\n",
              "\n",
              "    .colab-df-convert {\n",
              "      background-color: #E8F0FE;\n",
              "      border: none;\n",
              "      border-radius: 50%;\n",
              "      cursor: pointer;\n",
              "      display: none;\n",
              "      fill: #1967D2;\n",
              "      height: 32px;\n",
              "      padding: 0 0 0 0;\n",
              "      width: 32px;\n",
              "    }\n",
              "\n",
              "    .colab-df-convert:hover {\n",
              "      background-color: #E2EBFA;\n",
              "      box-shadow: 0px 1px 2px rgba(60, 64, 67, 0.3), 0px 1px 3px 1px rgba(60, 64, 67, 0.15);\n",
              "      fill: #174EA6;\n",
              "    }\n",
              "\n",
              "    [theme=dark] .colab-df-convert {\n",
              "      background-color: #3B4455;\n",
              "      fill: #D2E3FC;\n",
              "    }\n",
              "\n",
              "    [theme=dark] .colab-df-convert:hover {\n",
              "      background-color: #434B5C;\n",
              "      box-shadow: 0px 1px 3px 1px rgba(0, 0, 0, 0.15);\n",
              "      filter: drop-shadow(0px 1px 2px rgba(0, 0, 0, 0.3));\n",
              "      fill: #FFFFFF;\n",
              "    }\n",
              "  </style>\n",
              "\n",
              "      <script>\n",
              "        const buttonEl =\n",
              "          document.querySelector('#df-2ae1b33b-d3ff-4754-b733-5a2513dbfa30 button.colab-df-convert');\n",
              "        buttonEl.style.display =\n",
              "          google.colab.kernel.accessAllowed ? 'block' : 'none';\n",
              "\n",
              "        async function convertToInteractive(key) {\n",
              "          const element = document.querySelector('#df-2ae1b33b-d3ff-4754-b733-5a2513dbfa30');\n",
              "          const dataTable =\n",
              "            await google.colab.kernel.invokeFunction('convertToInteractive',\n",
              "                                                     [key], {});\n",
              "          if (!dataTable) return;\n",
              "\n",
              "          const docLinkHtml = 'Like what you see? Visit the ' +\n",
              "            '<a target=\"_blank\" href=https://colab.research.google.com/notebooks/data_table.ipynb>data table notebook</a>'\n",
              "            + ' to learn more about interactive tables.';\n",
              "          element.innerHTML = '';\n",
              "          dataTable['output_type'] = 'display_data';\n",
              "          await google.colab.output.renderOutput(dataTable, element);\n",
              "          const docLink = document.createElement('div');\n",
              "          docLink.innerHTML = docLinkHtml;\n",
              "          element.appendChild(docLink);\n",
              "        }\n",
              "      </script>\n",
              "    </div>\n",
              "  </div>\n",
              "  "
            ]
          },
          "metadata": {},
          "execution_count": 76
        }
      ]
    },
    {
      "cell_type": "code",
      "source": [
        "test_df.head()"
      ],
      "metadata": {
        "colab": {
          "base_uri": "https://localhost:8080/"
        },
        "id": "6x_yrtm0lf51",
        "outputId": "1e78e848-0757-46e7-e53f-19eb3d430462"
      },
      "id": "6x_yrtm0lf51",
      "execution_count": null,
      "outputs": [
        {
          "output_type": "execute_result",
          "data": {
            "text/plain": [
              "   Class                                              Title  \\\n",
              "0      3                  Fears for T N pension after talks   \n",
              "1      4  The Race is On: Second Private Team Sets Launc...   \n",
              "2      4      Ky. Company Wins Grant to Study Peptides (AP)   \n",
              "3      4      Prediction Unit Helps Forecast Wildfires (AP)   \n",
              "4      4        Calif. Aims to Limit Farm-Related Smog (AP)   \n",
              "\n",
              "                                         Description  \n",
              "0  Unions representing workers at Turner   Newall...  \n",
              "1  SPACE.com - TORONTO, Canada -- A second\\team o...  \n",
              "2  AP - A company founded by a chemistry research...  \n",
              "3  AP - It's barely dawn when Mike Fitzpatrick st...  \n",
              "4  AP - Southern California's smog-fighting agenc...  "
            ],
            "text/html": [
              "\n",
              "  <div id=\"df-67b61b2c-0941-4e95-a252-b8736f4f7f77\">\n",
              "    <div class=\"colab-df-container\">\n",
              "      <div>\n",
              "<style scoped>\n",
              "    .dataframe tbody tr th:only-of-type {\n",
              "        vertical-align: middle;\n",
              "    }\n",
              "\n",
              "    .dataframe tbody tr th {\n",
              "        vertical-align: top;\n",
              "    }\n",
              "\n",
              "    .dataframe thead th {\n",
              "        text-align: right;\n",
              "    }\n",
              "</style>\n",
              "<table border=\"1\" class=\"dataframe\">\n",
              "  <thead>\n",
              "    <tr style=\"text-align: right;\">\n",
              "      <th></th>\n",
              "      <th>Class</th>\n",
              "      <th>Title</th>\n",
              "      <th>Description</th>\n",
              "    </tr>\n",
              "  </thead>\n",
              "  <tbody>\n",
              "    <tr>\n",
              "      <th>0</th>\n",
              "      <td>3</td>\n",
              "      <td>Fears for T N pension after talks</td>\n",
              "      <td>Unions representing workers at Turner   Newall...</td>\n",
              "    </tr>\n",
              "    <tr>\n",
              "      <th>1</th>\n",
              "      <td>4</td>\n",
              "      <td>The Race is On: Second Private Team Sets Launc...</td>\n",
              "      <td>SPACE.com - TORONTO, Canada -- A second\\team o...</td>\n",
              "    </tr>\n",
              "    <tr>\n",
              "      <th>2</th>\n",
              "      <td>4</td>\n",
              "      <td>Ky. Company Wins Grant to Study Peptides (AP)</td>\n",
              "      <td>AP - A company founded by a chemistry research...</td>\n",
              "    </tr>\n",
              "    <tr>\n",
              "      <th>3</th>\n",
              "      <td>4</td>\n",
              "      <td>Prediction Unit Helps Forecast Wildfires (AP)</td>\n",
              "      <td>AP - It's barely dawn when Mike Fitzpatrick st...</td>\n",
              "    </tr>\n",
              "    <tr>\n",
              "      <th>4</th>\n",
              "      <td>4</td>\n",
              "      <td>Calif. Aims to Limit Farm-Related Smog (AP)</td>\n",
              "      <td>AP - Southern California's smog-fighting agenc...</td>\n",
              "    </tr>\n",
              "  </tbody>\n",
              "</table>\n",
              "</div>\n",
              "      <button class=\"colab-df-convert\" onclick=\"convertToInteractive('df-67b61b2c-0941-4e95-a252-b8736f4f7f77')\"\n",
              "              title=\"Convert this dataframe to an interactive table.\"\n",
              "              style=\"display:none;\">\n",
              "        \n",
              "  <svg xmlns=\"http://www.w3.org/2000/svg\" height=\"24px\"viewBox=\"0 0 24 24\"\n",
              "       width=\"24px\">\n",
              "    <path d=\"M0 0h24v24H0V0z\" fill=\"none\"/>\n",
              "    <path d=\"M18.56 5.44l.94 2.06.94-2.06 2.06-.94-2.06-.94-.94-2.06-.94 2.06-2.06.94zm-11 1L8.5 8.5l.94-2.06 2.06-.94-2.06-.94L8.5 2.5l-.94 2.06-2.06.94zm10 10l.94 2.06.94-2.06 2.06-.94-2.06-.94-.94-2.06-.94 2.06-2.06.94z\"/><path d=\"M17.41 7.96l-1.37-1.37c-.4-.4-.92-.59-1.43-.59-.52 0-1.04.2-1.43.59L10.3 9.45l-7.72 7.72c-.78.78-.78 2.05 0 2.83L4 21.41c.39.39.9.59 1.41.59.51 0 1.02-.2 1.41-.59l7.78-7.78 2.81-2.81c.8-.78.8-2.07 0-2.86zM5.41 20L4 18.59l7.72-7.72 1.47 1.35L5.41 20z\"/>\n",
              "  </svg>\n",
              "      </button>\n",
              "      \n",
              "  <style>\n",
              "    .colab-df-container {\n",
              "      display:flex;\n",
              "      flex-wrap:wrap;\n",
              "      gap: 12px;\n",
              "    }\n",
              "\n",
              "    .colab-df-convert {\n",
              "      background-color: #E8F0FE;\n",
              "      border: none;\n",
              "      border-radius: 50%;\n",
              "      cursor: pointer;\n",
              "      display: none;\n",
              "      fill: #1967D2;\n",
              "      height: 32px;\n",
              "      padding: 0 0 0 0;\n",
              "      width: 32px;\n",
              "    }\n",
              "\n",
              "    .colab-df-convert:hover {\n",
              "      background-color: #E2EBFA;\n",
              "      box-shadow: 0px 1px 2px rgba(60, 64, 67, 0.3), 0px 1px 3px 1px rgba(60, 64, 67, 0.15);\n",
              "      fill: #174EA6;\n",
              "    }\n",
              "\n",
              "    [theme=dark] .colab-df-convert {\n",
              "      background-color: #3B4455;\n",
              "      fill: #D2E3FC;\n",
              "    }\n",
              "\n",
              "    [theme=dark] .colab-df-convert:hover {\n",
              "      background-color: #434B5C;\n",
              "      box-shadow: 0px 1px 3px 1px rgba(0, 0, 0, 0.15);\n",
              "      filter: drop-shadow(0px 1px 2px rgba(0, 0, 0, 0.3));\n",
              "      fill: #FFFFFF;\n",
              "    }\n",
              "  </style>\n",
              "\n",
              "      <script>\n",
              "        const buttonEl =\n",
              "          document.querySelector('#df-67b61b2c-0941-4e95-a252-b8736f4f7f77 button.colab-df-convert');\n",
              "        buttonEl.style.display =\n",
              "          google.colab.kernel.accessAllowed ? 'block' : 'none';\n",
              "\n",
              "        async function convertToInteractive(key) {\n",
              "          const element = document.querySelector('#df-67b61b2c-0941-4e95-a252-b8736f4f7f77');\n",
              "          const dataTable =\n",
              "            await google.colab.kernel.invokeFunction('convertToInteractive',\n",
              "                                                     [key], {});\n",
              "          if (!dataTable) return;\n",
              "\n",
              "          const docLinkHtml = 'Like what you see? Visit the ' +\n",
              "            '<a target=\"_blank\" href=https://colab.research.google.com/notebooks/data_table.ipynb>data table notebook</a>'\n",
              "            + ' to learn more about interactive tables.';\n",
              "          element.innerHTML = '';\n",
              "          dataTable['output_type'] = 'display_data';\n",
              "          await google.colab.output.renderOutput(dataTable, element);\n",
              "          const docLink = document.createElement('div');\n",
              "          docLink.innerHTML = docLinkHtml;\n",
              "          element.appendChild(docLink);\n",
              "        }\n",
              "      </script>\n",
              "    </div>\n",
              "  </div>\n",
              "  "
            ]
          },
          "metadata": {},
          "execution_count": 77
        }
      ]
    },
    {
      "cell_type": "markdown",
      "id": "6caf7e1b-c993-4d9a-9b32-c6475f6b688b",
      "metadata": {
        "id": "6caf7e1b-c993-4d9a-9b32-c6475f6b688b"
      },
      "source": [
        "- Elimina registros duplicados según el campo *Description*."
      ]
    },
    {
      "cell_type": "code",
      "execution_count": null,
      "id": "81e6483d-e3e6-4902-aeea-f5b2c00a77a5",
      "metadata": {
        "id": "81e6483d-e3e6-4902-aeea-f5b2c00a77a5"
      },
      "outputs": [],
      "source": [
        "train_df = train_df.drop_duplicates(subset=['Description'])\n",
        "val_df = val_df.drop_duplicates(subset=['Description'])\n",
        "test_df = test_df.drop_duplicates(subset=['Description'])"
      ]
    },
    {
      "cell_type": "markdown",
      "source": [
        "- Ordenamiento ascendente de registros según el campo *Description*."
      ],
      "metadata": {
        "id": "xMfjEW2QaG4p"
      },
      "id": "xMfjEW2QaG4p"
    },
    {
      "cell_type": "code",
      "execution_count": null,
      "id": "23023c67-9ac0-4097-8e91-6b6f417261cb",
      "metadata": {
        "colab": {
          "base_uri": "https://localhost:8080/"
        },
        "id": "23023c67-9ac0-4097-8e91-6b6f417261cb",
        "outputId": "de5873a0-e8dd-4d22-df96-1c9bb1c2a709"
      },
      "outputs": [
        {
          "output_type": "execute_result",
          "data": {
            "text/plain": [
              "        Class                                              Title  \\\n",
              "38968       2                                        The Rundown   \n",
              "83160       1                          WorldCom Investors Settle   \n",
              "54379       3            Johnson Controls Sees Revenue, Earns Up   \n",
              "58997       1                   Japan's Wide Role in Afghanistan   \n",
              "104138      4  Chip Sales Rise 1.5 Pct in October from September   \n",
              "...       ...                                                ...   \n",
              "17055       1       Malaysia court overturns Anwar sodomy ruling   \n",
              "12762       3  Drug to Help Avert Blindness Moves Closer to A...   \n",
              "19295       2   No. 25 Purdue Opens With a 51-0 Rout of Syracuse   \n",
              "2979        2          American Cyclist Hamilton Wins Time Trial   \n",
              "14372       3      SUSAN TOMPOR: Change the law, feel the bounce   \n",
              "\n",
              "                                              Description  \n",
              "38968       1 Southern California at Stanford  &lt;em&...  \n",
              "83160      A federal judge approved a \\$2.575 billion ...  \n",
              "54379      CHICAGO (Reuters) - Auto parts supplier Joh...  \n",
              "58997      Japan's Foreign Ministry spokesman,    Hats...  \n",
              "104138     NEW YORK (Reuters) - Worldwide semiconducto...  \n",
              "...                                                   ...  \n",
              "17055   years in jail, overturning his conviction for ...  \n",
              "12762   yetech Pharmaceuticals #39; drug to treat the ...  \n",
              "19295   yle Orton passed for 287 yards and a career-hi...  \n",
              "2979    yler Hamilton and Bobby Julich showed that the...  \n",
              "14372   you know, writing a check a day or two before ...  \n",
              "\n",
              "[111173 rows x 3 columns]"
            ],
            "text/html": [
              "\n",
              "  <div id=\"df-4b972309-eac4-4a59-87f4-330fa0c86b7a\">\n",
              "    <div class=\"colab-df-container\">\n",
              "      <div>\n",
              "<style scoped>\n",
              "    .dataframe tbody tr th:only-of-type {\n",
              "        vertical-align: middle;\n",
              "    }\n",
              "\n",
              "    .dataframe tbody tr th {\n",
              "        vertical-align: top;\n",
              "    }\n",
              "\n",
              "    .dataframe thead th {\n",
              "        text-align: right;\n",
              "    }\n",
              "</style>\n",
              "<table border=\"1\" class=\"dataframe\">\n",
              "  <thead>\n",
              "    <tr style=\"text-align: right;\">\n",
              "      <th></th>\n",
              "      <th>Class</th>\n",
              "      <th>Title</th>\n",
              "      <th>Description</th>\n",
              "    </tr>\n",
              "  </thead>\n",
              "  <tbody>\n",
              "    <tr>\n",
              "      <th>38968</th>\n",
              "      <td>2</td>\n",
              "      <td>The Rundown</td>\n",
              "      <td>1 Southern California at Stanford  &amp;lt;em&amp;...</td>\n",
              "    </tr>\n",
              "    <tr>\n",
              "      <th>83160</th>\n",
              "      <td>1</td>\n",
              "      <td>WorldCom Investors Settle</td>\n",
              "      <td>A federal judge approved a \\$2.575 billion ...</td>\n",
              "    </tr>\n",
              "    <tr>\n",
              "      <th>54379</th>\n",
              "      <td>3</td>\n",
              "      <td>Johnson Controls Sees Revenue, Earns Up</td>\n",
              "      <td>CHICAGO (Reuters) - Auto parts supplier Joh...</td>\n",
              "    </tr>\n",
              "    <tr>\n",
              "      <th>58997</th>\n",
              "      <td>1</td>\n",
              "      <td>Japan's Wide Role in Afghanistan</td>\n",
              "      <td>Japan's Foreign Ministry spokesman,    Hats...</td>\n",
              "    </tr>\n",
              "    <tr>\n",
              "      <th>104138</th>\n",
              "      <td>4</td>\n",
              "      <td>Chip Sales Rise 1.5 Pct in October from September</td>\n",
              "      <td>NEW YORK (Reuters) - Worldwide semiconducto...</td>\n",
              "    </tr>\n",
              "    <tr>\n",
              "      <th>...</th>\n",
              "      <td>...</td>\n",
              "      <td>...</td>\n",
              "      <td>...</td>\n",
              "    </tr>\n",
              "    <tr>\n",
              "      <th>17055</th>\n",
              "      <td>1</td>\n",
              "      <td>Malaysia court overturns Anwar sodomy ruling</td>\n",
              "      <td>years in jail, overturning his conviction for ...</td>\n",
              "    </tr>\n",
              "    <tr>\n",
              "      <th>12762</th>\n",
              "      <td>3</td>\n",
              "      <td>Drug to Help Avert Blindness Moves Closer to A...</td>\n",
              "      <td>yetech Pharmaceuticals #39; drug to treat the ...</td>\n",
              "    </tr>\n",
              "    <tr>\n",
              "      <th>19295</th>\n",
              "      <td>2</td>\n",
              "      <td>No. 25 Purdue Opens With a 51-0 Rout of Syracuse</td>\n",
              "      <td>yle Orton passed for 287 yards and a career-hi...</td>\n",
              "    </tr>\n",
              "    <tr>\n",
              "      <th>2979</th>\n",
              "      <td>2</td>\n",
              "      <td>American Cyclist Hamilton Wins Time Trial</td>\n",
              "      <td>yler Hamilton and Bobby Julich showed that the...</td>\n",
              "    </tr>\n",
              "    <tr>\n",
              "      <th>14372</th>\n",
              "      <td>3</td>\n",
              "      <td>SUSAN TOMPOR: Change the law, feel the bounce</td>\n",
              "      <td>you know, writing a check a day or two before ...</td>\n",
              "    </tr>\n",
              "  </tbody>\n",
              "</table>\n",
              "<p>111173 rows × 3 columns</p>\n",
              "</div>\n",
              "      <button class=\"colab-df-convert\" onclick=\"convertToInteractive('df-4b972309-eac4-4a59-87f4-330fa0c86b7a')\"\n",
              "              title=\"Convert this dataframe to an interactive table.\"\n",
              "              style=\"display:none;\">\n",
              "        \n",
              "  <svg xmlns=\"http://www.w3.org/2000/svg\" height=\"24px\"viewBox=\"0 0 24 24\"\n",
              "       width=\"24px\">\n",
              "    <path d=\"M0 0h24v24H0V0z\" fill=\"none\"/>\n",
              "    <path d=\"M18.56 5.44l.94 2.06.94-2.06 2.06-.94-2.06-.94-.94-2.06-.94 2.06-2.06.94zm-11 1L8.5 8.5l.94-2.06 2.06-.94-2.06-.94L8.5 2.5l-.94 2.06-2.06.94zm10 10l.94 2.06.94-2.06 2.06-.94-2.06-.94-.94-2.06-.94 2.06-2.06.94z\"/><path d=\"M17.41 7.96l-1.37-1.37c-.4-.4-.92-.59-1.43-.59-.52 0-1.04.2-1.43.59L10.3 9.45l-7.72 7.72c-.78.78-.78 2.05 0 2.83L4 21.41c.39.39.9.59 1.41.59.51 0 1.02-.2 1.41-.59l7.78-7.78 2.81-2.81c.8-.78.8-2.07 0-2.86zM5.41 20L4 18.59l7.72-7.72 1.47 1.35L5.41 20z\"/>\n",
              "  </svg>\n",
              "      </button>\n",
              "      \n",
              "  <style>\n",
              "    .colab-df-container {\n",
              "      display:flex;\n",
              "      flex-wrap:wrap;\n",
              "      gap: 12px;\n",
              "    }\n",
              "\n",
              "    .colab-df-convert {\n",
              "      background-color: #E8F0FE;\n",
              "      border: none;\n",
              "      border-radius: 50%;\n",
              "      cursor: pointer;\n",
              "      display: none;\n",
              "      fill: #1967D2;\n",
              "      height: 32px;\n",
              "      padding: 0 0 0 0;\n",
              "      width: 32px;\n",
              "    }\n",
              "\n",
              "    .colab-df-convert:hover {\n",
              "      background-color: #E2EBFA;\n",
              "      box-shadow: 0px 1px 2px rgba(60, 64, 67, 0.3), 0px 1px 3px 1px rgba(60, 64, 67, 0.15);\n",
              "      fill: #174EA6;\n",
              "    }\n",
              "\n",
              "    [theme=dark] .colab-df-convert {\n",
              "      background-color: #3B4455;\n",
              "      fill: #D2E3FC;\n",
              "    }\n",
              "\n",
              "    [theme=dark] .colab-df-convert:hover {\n",
              "      background-color: #434B5C;\n",
              "      box-shadow: 0px 1px 3px 1px rgba(0, 0, 0, 0.15);\n",
              "      filter: drop-shadow(0px 1px 2px rgba(0, 0, 0, 0.3));\n",
              "      fill: #FFFFFF;\n",
              "    }\n",
              "  </style>\n",
              "\n",
              "      <script>\n",
              "        const buttonEl =\n",
              "          document.querySelector('#df-4b972309-eac4-4a59-87f4-330fa0c86b7a button.colab-df-convert');\n",
              "        buttonEl.style.display =\n",
              "          google.colab.kernel.accessAllowed ? 'block' : 'none';\n",
              "\n",
              "        async function convertToInteractive(key) {\n",
              "          const element = document.querySelector('#df-4b972309-eac4-4a59-87f4-330fa0c86b7a');\n",
              "          const dataTable =\n",
              "            await google.colab.kernel.invokeFunction('convertToInteractive',\n",
              "                                                     [key], {});\n",
              "          if (!dataTable) return;\n",
              "\n",
              "          const docLinkHtml = 'Like what you see? Visit the ' +\n",
              "            '<a target=\"_blank\" href=https://colab.research.google.com/notebooks/data_table.ipynb>data table notebook</a>'\n",
              "            + ' to learn more about interactive tables.';\n",
              "          element.innerHTML = '';\n",
              "          dataTable['output_type'] = 'display_data';\n",
              "          await google.colab.output.renderOutput(dataTable, element);\n",
              "          const docLink = document.createElement('div');\n",
              "          docLink.innerHTML = docLinkHtml;\n",
              "          element.appendChild(docLink);\n",
              "        }\n",
              "      </script>\n",
              "    </div>\n",
              "  </div>\n",
              "  "
            ]
          },
          "metadata": {},
          "execution_count": 79
        }
      ],
      "source": [
        "train_df.sort_values(by='Description', ascending=True, inplace=False)"
      ]
    },
    {
      "cell_type": "code",
      "source": [
        "val_df.sort_values(by='Description', ascending=True, inplace=False)"
      ],
      "metadata": {
        "colab": {
          "base_uri": "https://localhost:8080/"
        },
        "id": "UglPjMq3m2IV",
        "outputId": "0607e461-4b92-4b98-af11-444de3c81fa0"
      },
      "id": "UglPjMq3m2IV",
      "execution_count": null,
      "outputs": [
        {
          "output_type": "execute_result",
          "data": {
            "text/plain": [
              "      Class                                              Title  \\\n",
              "6240      3                      An Optimistic Hiring Forecast   \n",
              "2100      3                                LATEST FUTURES NEWS   \n",
              "5378      1  Dangers on the Ground in Iraq Lead to Increase...   \n",
              "2543      4            A Push to Restrict Sales of Video Games   \n",
              "1394      1   Turkish Engineer, 2 Aides Missing in Afghanistan   \n",
              "...     ...                                                ...   \n",
              "322       4  Sprint's Planned Nextel Deal Builds on Wireles...   \n",
              "1126      3       For Sprint and Nextel, the Struggle Is Ahead   \n",
              "4659      3                  Consumer prices in US edge higher   \n",
              "4374      4                     Zafi.D Infects 1 in 10 E-mails   \n",
              "3608      1                         PM sets up Blunkett return   \n",
              "\n",
              "                                            Description  \n",
              "6240     Chief executives in the Washington-Baltimor...  \n",
              "2100    2004-12-15 11:01:48 Oil - Brent higher on US...  \n",
              "5378    AL UDEID AIR BASE, Qatar, Dec. 11 -- In an e...  \n",
              "2543    CHICAGO. Dec. 15 -- Decrying violence in fas...  \n",
              "1394    KABUL, Afghanistan, Dec. 14 -- A Turkish eng...  \n",
              "...                                                 ...  \n",
              "322   washingtonpost.com - When Gary D. Forsee took ...  \n",
              "1126  which could come as early as today - they will...  \n",
              "4659  which jumped steeply the previous month - incr...  \n",
              "4374  which spreads through e-mail that appears to c...  \n",
              "3608  who quit as Home Secretary on Wednesday evenin...  \n",
              "\n",
              "[7554 rows x 3 columns]"
            ],
            "text/html": [
              "\n",
              "  <div id=\"df-35f55161-912b-4621-ad7f-d7875bbea29e\">\n",
              "    <div class=\"colab-df-container\">\n",
              "      <div>\n",
              "<style scoped>\n",
              "    .dataframe tbody tr th:only-of-type {\n",
              "        vertical-align: middle;\n",
              "    }\n",
              "\n",
              "    .dataframe tbody tr th {\n",
              "        vertical-align: top;\n",
              "    }\n",
              "\n",
              "    .dataframe thead th {\n",
              "        text-align: right;\n",
              "    }\n",
              "</style>\n",
              "<table border=\"1\" class=\"dataframe\">\n",
              "  <thead>\n",
              "    <tr style=\"text-align: right;\">\n",
              "      <th></th>\n",
              "      <th>Class</th>\n",
              "      <th>Title</th>\n",
              "      <th>Description</th>\n",
              "    </tr>\n",
              "  </thead>\n",
              "  <tbody>\n",
              "    <tr>\n",
              "      <th>6240</th>\n",
              "      <td>3</td>\n",
              "      <td>An Optimistic Hiring Forecast</td>\n",
              "      <td>Chief executives in the Washington-Baltimor...</td>\n",
              "    </tr>\n",
              "    <tr>\n",
              "      <th>2100</th>\n",
              "      <td>3</td>\n",
              "      <td>LATEST FUTURES NEWS</td>\n",
              "      <td>2004-12-15 11:01:48 Oil - Brent higher on US...</td>\n",
              "    </tr>\n",
              "    <tr>\n",
              "      <th>5378</th>\n",
              "      <td>1</td>\n",
              "      <td>Dangers on the Ground in Iraq Lead to Increase...</td>\n",
              "      <td>AL UDEID AIR BASE, Qatar, Dec. 11 -- In an e...</td>\n",
              "    </tr>\n",
              "    <tr>\n",
              "      <th>2543</th>\n",
              "      <td>4</td>\n",
              "      <td>A Push to Restrict Sales of Video Games</td>\n",
              "      <td>CHICAGO. Dec. 15 -- Decrying violence in fas...</td>\n",
              "    </tr>\n",
              "    <tr>\n",
              "      <th>1394</th>\n",
              "      <td>1</td>\n",
              "      <td>Turkish Engineer, 2 Aides Missing in Afghanistan</td>\n",
              "      <td>KABUL, Afghanistan, Dec. 14 -- A Turkish eng...</td>\n",
              "    </tr>\n",
              "    <tr>\n",
              "      <th>...</th>\n",
              "      <td>...</td>\n",
              "      <td>...</td>\n",
              "      <td>...</td>\n",
              "    </tr>\n",
              "    <tr>\n",
              "      <th>322</th>\n",
              "      <td>4</td>\n",
              "      <td>Sprint's Planned Nextel Deal Builds on Wireles...</td>\n",
              "      <td>washingtonpost.com - When Gary D. Forsee took ...</td>\n",
              "    </tr>\n",
              "    <tr>\n",
              "      <th>1126</th>\n",
              "      <td>3</td>\n",
              "      <td>For Sprint and Nextel, the Struggle Is Ahead</td>\n",
              "      <td>which could come as early as today - they will...</td>\n",
              "    </tr>\n",
              "    <tr>\n",
              "      <th>4659</th>\n",
              "      <td>3</td>\n",
              "      <td>Consumer prices in US edge higher</td>\n",
              "      <td>which jumped steeply the previous month - incr...</td>\n",
              "    </tr>\n",
              "    <tr>\n",
              "      <th>4374</th>\n",
              "      <td>4</td>\n",
              "      <td>Zafi.D Infects 1 in 10 E-mails</td>\n",
              "      <td>which spreads through e-mail that appears to c...</td>\n",
              "    </tr>\n",
              "    <tr>\n",
              "      <th>3608</th>\n",
              "      <td>1</td>\n",
              "      <td>PM sets up Blunkett return</td>\n",
              "      <td>who quit as Home Secretary on Wednesday evenin...</td>\n",
              "    </tr>\n",
              "  </tbody>\n",
              "</table>\n",
              "<p>7554 rows × 3 columns</p>\n",
              "</div>\n",
              "      <button class=\"colab-df-convert\" onclick=\"convertToInteractive('df-35f55161-912b-4621-ad7f-d7875bbea29e')\"\n",
              "              title=\"Convert this dataframe to an interactive table.\"\n",
              "              style=\"display:none;\">\n",
              "        \n",
              "  <svg xmlns=\"http://www.w3.org/2000/svg\" height=\"24px\"viewBox=\"0 0 24 24\"\n",
              "       width=\"24px\">\n",
              "    <path d=\"M0 0h24v24H0V0z\" fill=\"none\"/>\n",
              "    <path d=\"M18.56 5.44l.94 2.06.94-2.06 2.06-.94-2.06-.94-.94-2.06-.94 2.06-2.06.94zm-11 1L8.5 8.5l.94-2.06 2.06-.94-2.06-.94L8.5 2.5l-.94 2.06-2.06.94zm10 10l.94 2.06.94-2.06 2.06-.94-2.06-.94-.94-2.06-.94 2.06-2.06.94z\"/><path d=\"M17.41 7.96l-1.37-1.37c-.4-.4-.92-.59-1.43-.59-.52 0-1.04.2-1.43.59L10.3 9.45l-7.72 7.72c-.78.78-.78 2.05 0 2.83L4 21.41c.39.39.9.59 1.41.59.51 0 1.02-.2 1.41-.59l7.78-7.78 2.81-2.81c.8-.78.8-2.07 0-2.86zM5.41 20L4 18.59l7.72-7.72 1.47 1.35L5.41 20z\"/>\n",
              "  </svg>\n",
              "      </button>\n",
              "      \n",
              "  <style>\n",
              "    .colab-df-container {\n",
              "      display:flex;\n",
              "      flex-wrap:wrap;\n",
              "      gap: 12px;\n",
              "    }\n",
              "\n",
              "    .colab-df-convert {\n",
              "      background-color: #E8F0FE;\n",
              "      border: none;\n",
              "      border-radius: 50%;\n",
              "      cursor: pointer;\n",
              "      display: none;\n",
              "      fill: #1967D2;\n",
              "      height: 32px;\n",
              "      padding: 0 0 0 0;\n",
              "      width: 32px;\n",
              "    }\n",
              "\n",
              "    .colab-df-convert:hover {\n",
              "      background-color: #E2EBFA;\n",
              "      box-shadow: 0px 1px 2px rgba(60, 64, 67, 0.3), 0px 1px 3px 1px rgba(60, 64, 67, 0.15);\n",
              "      fill: #174EA6;\n",
              "    }\n",
              "\n",
              "    [theme=dark] .colab-df-convert {\n",
              "      background-color: #3B4455;\n",
              "      fill: #D2E3FC;\n",
              "    }\n",
              "\n",
              "    [theme=dark] .colab-df-convert:hover {\n",
              "      background-color: #434B5C;\n",
              "      box-shadow: 0px 1px 3px 1px rgba(0, 0, 0, 0.15);\n",
              "      filter: drop-shadow(0px 1px 2px rgba(0, 0, 0, 0.3));\n",
              "      fill: #FFFFFF;\n",
              "    }\n",
              "  </style>\n",
              "\n",
              "      <script>\n",
              "        const buttonEl =\n",
              "          document.querySelector('#df-35f55161-912b-4621-ad7f-d7875bbea29e button.colab-df-convert');\n",
              "        buttonEl.style.display =\n",
              "          google.colab.kernel.accessAllowed ? 'block' : 'none';\n",
              "\n",
              "        async function convertToInteractive(key) {\n",
              "          const element = document.querySelector('#df-35f55161-912b-4621-ad7f-d7875bbea29e');\n",
              "          const dataTable =\n",
              "            await google.colab.kernel.invokeFunction('convertToInteractive',\n",
              "                                                     [key], {});\n",
              "          if (!dataTable) return;\n",
              "\n",
              "          const docLinkHtml = 'Like what you see? Visit the ' +\n",
              "            '<a target=\"_blank\" href=https://colab.research.google.com/notebooks/data_table.ipynb>data table notebook</a>'\n",
              "            + ' to learn more about interactive tables.';\n",
              "          element.innerHTML = '';\n",
              "          dataTable['output_type'] = 'display_data';\n",
              "          await google.colab.output.renderOutput(dataTable, element);\n",
              "          const docLink = document.createElement('div');\n",
              "          docLink.innerHTML = docLinkHtml;\n",
              "          element.appendChild(docLink);\n",
              "        }\n",
              "      </script>\n",
              "    </div>\n",
              "  </div>\n",
              "  "
            ]
          },
          "metadata": {},
          "execution_count": 80
        }
      ]
    },
    {
      "cell_type": "code",
      "source": [
        "test_df.sort_values(by='Description', ascending=True, inplace=False)"
      ],
      "metadata": {
        "colab": {
          "base_uri": "https://localhost:8080/"
        },
        "id": "NZi6EvsEm5ca",
        "outputId": "d6a19469-e90c-43d4-a5df-f3084d9b937b"
      },
      "id": "NZi6EvsEm5ca",
      "execution_count": null,
      "outputs": [
        {
          "output_type": "execute_result",
          "data": {
            "text/plain": [
              "      Class                                              Title  \\\n",
              "4562      3               Consumer Confidence Hits 7-Month Low   \n",
              "6698      1                                Terms of Endearment   \n",
              "6465      1             Forecast Frosty for U.S.-Canadian Ties   \n",
              "170       4                  10 features for a perfect browser   \n",
              "5775      3           SEC Charges Hollinger's Black with Fraud   \n",
              "...     ...                                                ...   \n",
              "7135      3  The relief of shedding a big ball and chain: H...   \n",
              "3116      4  OPM Delving Deeper Into Employees #39; Backgro...   \n",
              "4996      2                          Diva gallops into history   \n",
              "7132      1        Plant a tree at Easter urges Nobel laureate   \n",
              "1276      2    Once Again, Mets Sputter Toward End of a Season   \n",
              "\n",
              "                                            Description  \n",
              "4562    NEW YORK (Reuters) - U.S. consumers turned m...  \n",
              "6698    Seems that the Bush administration, unlike p...  \n",
              "6465    TORONTO -- The weather won't be the only thi...  \n",
              "170     There are some  great  browsers  out there. ...  \n",
              "5775    WASHINGTON (Reuters) - U.S. regulators filed...  \n",
              "...                                                 ...  \n",
              "7135  which owns fund manager Henderson, - yesterday...  \n",
              "3116  which sets hiring and employment standards for...  \n",
              "4996  wind, water and Makybe Diva -ll came together ...  \n",
              "7132  world to plant trees at Easter as a symbol of ...  \n",
              "1276  year ago, the Mets were going nowhere when the...  \n",
              "\n",
              "[7594 rows x 3 columns]"
            ],
            "text/html": [
              "\n",
              "  <div id=\"df-a4e01775-a681-4d5e-84eb-487524e61497\">\n",
              "    <div class=\"colab-df-container\">\n",
              "      <div>\n",
              "<style scoped>\n",
              "    .dataframe tbody tr th:only-of-type {\n",
              "        vertical-align: middle;\n",
              "    }\n",
              "\n",
              "    .dataframe tbody tr th {\n",
              "        vertical-align: top;\n",
              "    }\n",
              "\n",
              "    .dataframe thead th {\n",
              "        text-align: right;\n",
              "    }\n",
              "</style>\n",
              "<table border=\"1\" class=\"dataframe\">\n",
              "  <thead>\n",
              "    <tr style=\"text-align: right;\">\n",
              "      <th></th>\n",
              "      <th>Class</th>\n",
              "      <th>Title</th>\n",
              "      <th>Description</th>\n",
              "    </tr>\n",
              "  </thead>\n",
              "  <tbody>\n",
              "    <tr>\n",
              "      <th>4562</th>\n",
              "      <td>3</td>\n",
              "      <td>Consumer Confidence Hits 7-Month Low</td>\n",
              "      <td>NEW YORK (Reuters) - U.S. consumers turned m...</td>\n",
              "    </tr>\n",
              "    <tr>\n",
              "      <th>6698</th>\n",
              "      <td>1</td>\n",
              "      <td>Terms of Endearment</td>\n",
              "      <td>Seems that the Bush administration, unlike p...</td>\n",
              "    </tr>\n",
              "    <tr>\n",
              "      <th>6465</th>\n",
              "      <td>1</td>\n",
              "      <td>Forecast Frosty for U.S.-Canadian Ties</td>\n",
              "      <td>TORONTO -- The weather won't be the only thi...</td>\n",
              "    </tr>\n",
              "    <tr>\n",
              "      <th>170</th>\n",
              "      <td>4</td>\n",
              "      <td>10 features for a perfect browser</td>\n",
              "      <td>There are some  great  browsers  out there. ...</td>\n",
              "    </tr>\n",
              "    <tr>\n",
              "      <th>5775</th>\n",
              "      <td>3</td>\n",
              "      <td>SEC Charges Hollinger's Black with Fraud</td>\n",
              "      <td>WASHINGTON (Reuters) - U.S. regulators filed...</td>\n",
              "    </tr>\n",
              "    <tr>\n",
              "      <th>...</th>\n",
              "      <td>...</td>\n",
              "      <td>...</td>\n",
              "      <td>...</td>\n",
              "    </tr>\n",
              "    <tr>\n",
              "      <th>7135</th>\n",
              "      <td>3</td>\n",
              "      <td>The relief of shedding a big ball and chain: H...</td>\n",
              "      <td>which owns fund manager Henderson, - yesterday...</td>\n",
              "    </tr>\n",
              "    <tr>\n",
              "      <th>3116</th>\n",
              "      <td>4</td>\n",
              "      <td>OPM Delving Deeper Into Employees #39; Backgro...</td>\n",
              "      <td>which sets hiring and employment standards for...</td>\n",
              "    </tr>\n",
              "    <tr>\n",
              "      <th>4996</th>\n",
              "      <td>2</td>\n",
              "      <td>Diva gallops into history</td>\n",
              "      <td>wind, water and Makybe Diva -ll came together ...</td>\n",
              "    </tr>\n",
              "    <tr>\n",
              "      <th>7132</th>\n",
              "      <td>1</td>\n",
              "      <td>Plant a tree at Easter urges Nobel laureate</td>\n",
              "      <td>world to plant trees at Easter as a symbol of ...</td>\n",
              "    </tr>\n",
              "    <tr>\n",
              "      <th>1276</th>\n",
              "      <td>2</td>\n",
              "      <td>Once Again, Mets Sputter Toward End of a Season</td>\n",
              "      <td>year ago, the Mets were going nowhere when the...</td>\n",
              "    </tr>\n",
              "  </tbody>\n",
              "</table>\n",
              "<p>7594 rows × 3 columns</p>\n",
              "</div>\n",
              "      <button class=\"colab-df-convert\" onclick=\"convertToInteractive('df-a4e01775-a681-4d5e-84eb-487524e61497')\"\n",
              "              title=\"Convert this dataframe to an interactive table.\"\n",
              "              style=\"display:none;\">\n",
              "        \n",
              "  <svg xmlns=\"http://www.w3.org/2000/svg\" height=\"24px\"viewBox=\"0 0 24 24\"\n",
              "       width=\"24px\">\n",
              "    <path d=\"M0 0h24v24H0V0z\" fill=\"none\"/>\n",
              "    <path d=\"M18.56 5.44l.94 2.06.94-2.06 2.06-.94-2.06-.94-.94-2.06-.94 2.06-2.06.94zm-11 1L8.5 8.5l.94-2.06 2.06-.94-2.06-.94L8.5 2.5l-.94 2.06-2.06.94zm10 10l.94 2.06.94-2.06 2.06-.94-2.06-.94-.94-2.06-.94 2.06-2.06.94z\"/><path d=\"M17.41 7.96l-1.37-1.37c-.4-.4-.92-.59-1.43-.59-.52 0-1.04.2-1.43.59L10.3 9.45l-7.72 7.72c-.78.78-.78 2.05 0 2.83L4 21.41c.39.39.9.59 1.41.59.51 0 1.02-.2 1.41-.59l7.78-7.78 2.81-2.81c.8-.78.8-2.07 0-2.86zM5.41 20L4 18.59l7.72-7.72 1.47 1.35L5.41 20z\"/>\n",
              "  </svg>\n",
              "      </button>\n",
              "      \n",
              "  <style>\n",
              "    .colab-df-container {\n",
              "      display:flex;\n",
              "      flex-wrap:wrap;\n",
              "      gap: 12px;\n",
              "    }\n",
              "\n",
              "    .colab-df-convert {\n",
              "      background-color: #E8F0FE;\n",
              "      border: none;\n",
              "      border-radius: 50%;\n",
              "      cursor: pointer;\n",
              "      display: none;\n",
              "      fill: #1967D2;\n",
              "      height: 32px;\n",
              "      padding: 0 0 0 0;\n",
              "      width: 32px;\n",
              "    }\n",
              "\n",
              "    .colab-df-convert:hover {\n",
              "      background-color: #E2EBFA;\n",
              "      box-shadow: 0px 1px 2px rgba(60, 64, 67, 0.3), 0px 1px 3px 1px rgba(60, 64, 67, 0.15);\n",
              "      fill: #174EA6;\n",
              "    }\n",
              "\n",
              "    [theme=dark] .colab-df-convert {\n",
              "      background-color: #3B4455;\n",
              "      fill: #D2E3FC;\n",
              "    }\n",
              "\n",
              "    [theme=dark] .colab-df-convert:hover {\n",
              "      background-color: #434B5C;\n",
              "      box-shadow: 0px 1px 3px 1px rgba(0, 0, 0, 0.15);\n",
              "      filter: drop-shadow(0px 1px 2px rgba(0, 0, 0, 0.3));\n",
              "      fill: #FFFFFF;\n",
              "    }\n",
              "  </style>\n",
              "\n",
              "      <script>\n",
              "        const buttonEl =\n",
              "          document.querySelector('#df-a4e01775-a681-4d5e-84eb-487524e61497 button.colab-df-convert');\n",
              "        buttonEl.style.display =\n",
              "          google.colab.kernel.accessAllowed ? 'block' : 'none';\n",
              "\n",
              "        async function convertToInteractive(key) {\n",
              "          const element = document.querySelector('#df-a4e01775-a681-4d5e-84eb-487524e61497');\n",
              "          const dataTable =\n",
              "            await google.colab.kernel.invokeFunction('convertToInteractive',\n",
              "                                                     [key], {});\n",
              "          if (!dataTable) return;\n",
              "\n",
              "          const docLinkHtml = 'Like what you see? Visit the ' +\n",
              "            '<a target=\"_blank\" href=https://colab.research.google.com/notebooks/data_table.ipynb>data table notebook</a>'\n",
              "            + ' to learn more about interactive tables.';\n",
              "          element.innerHTML = '';\n",
              "          dataTable['output_type'] = 'display_data';\n",
              "          await google.colab.output.renderOutput(dataTable, element);\n",
              "          const docLink = document.createElement('div');\n",
              "          docLink.innerHTML = docLinkHtml;\n",
              "          element.appendChild(docLink);\n",
              "        }\n",
              "      </script>\n",
              "    </div>\n",
              "  </div>\n",
              "  "
            ]
          },
          "metadata": {},
          "execution_count": 81
        }
      ]
    },
    {
      "cell_type": "markdown",
      "id": "4a9386dd-a8d9-4ca9-a08d-11186faf7692",
      "metadata": {
        "id": "4a9386dd-a8d9-4ca9-a08d-11186faf7692"
      },
      "source": [
        "- Eliminación cadenas de espacios en el campo *Description*."
      ]
    },
    {
      "cell_type": "code",
      "execution_count": null,
      "id": "43c5e1fd-8ba8-4347-8b5c-018bf6e725d7",
      "metadata": {
        "id": "43c5e1fd-8ba8-4347-8b5c-018bf6e725d7"
      },
      "outputs": [],
      "source": [
        "train_df = train_df[train_df['Description'].str.strip() != '']"
      ]
    },
    {
      "cell_type": "code",
      "source": [
        "val_df = val_df[val_df['Description'].str.strip() != '']"
      ],
      "metadata": {
        "id": "KP6sUoZDn3Tw"
      },
      "id": "KP6sUoZDn3Tw",
      "execution_count": null,
      "outputs": []
    },
    {
      "cell_type": "code",
      "source": [
        "test_df = test_df[test_df['Description'].str.strip() != '']"
      ],
      "metadata": {
        "id": "lwzPbWFfoN5b"
      },
      "id": "lwzPbWFfoN5b",
      "execution_count": null,
      "outputs": []
    },
    {
      "cell_type": "markdown",
      "source": [
        "- Reconfiguración de índices y validación de tamaño de los dataframes tras su depuración."
      ],
      "metadata": {
        "id": "Fk5tgaEhKeGY"
      },
      "id": "Fk5tgaEhKeGY"
    },
    {
      "cell_type": "code",
      "execution_count": null,
      "id": "17a77ff2-5799-488c-8ee7-3ae3a32395b9",
      "metadata": {
        "id": "17a77ff2-5799-488c-8ee7-3ae3a32395b9"
      },
      "outputs": [],
      "source": [
        "train_df = train_df.reset_index(drop=True)\n",
        "val_df = val_df.reset_index(drop=True)\n",
        "test_df = test_df.reset_index(drop=True)"
      ]
    },
    {
      "cell_type": "code",
      "execution_count": null,
      "id": "0e7f3959-32ca-49ad-abca-ef3e1fc9c080",
      "metadata": {
        "colab": {
          "base_uri": "https://localhost:8080/"
        },
        "id": "0e7f3959-32ca-49ad-abca-ef3e1fc9c080",
        "outputId": "14aa953e-96be-41a4-9ae2-476157f45a5b"
      },
      "outputs": [
        {
          "output_type": "stream",
          "name": "stdout",
          "text": [
            "111173\n",
            "7554\n",
            "7594\n"
          ]
        }
      ],
      "source": [
        "print(len(train_df))\n",
        "print(len(val_df))\n",
        "print(len(test_df))"
      ]
    },
    {
      "cell_type": "markdown",
      "source": [
        "- Creación de una nueva columna (Text) añadiendo el título a la descripción. Esta columna será la utilizada para el entrenamiento de los modelos, ya que proporciona la mayor cantidad de información sobre la noticia."
      ],
      "metadata": {
        "id": "P2XZ9xAUgq9s"
      },
      "id": "P2XZ9xAUgq9s"
    },
    {
      "cell_type": "code",
      "source": [
        "train_df['Text'] = train_df['Title']+ train_df['Description']\n",
        "val_df['Text'] = val_df['Title']+ val_df['Description']\n",
        "test_df['Text'] = test_df['Title']+ test_df['Description']"
      ],
      "metadata": {
        "id": "W1b5BZcogxWO"
      },
      "id": "W1b5BZcogxWO",
      "execution_count": null,
      "outputs": []
    },
    {
      "cell_type": "markdown",
      "source": [
        "- Modificación del ID de la categoría de noticia para que se encuentre en el rango [0, 4)."
      ],
      "metadata": {
        "id": "cksVMm4Usl7M"
      },
      "id": "cksVMm4Usl7M"
    },
    {
      "cell_type": "code",
      "source": [
        "train_df['Class'] = train_df['Class'] - 1\n",
        "val_df['Class'] = val_df['Class'] - 1\n",
        "test_df['Class'] = test_df['Class'] - 1"
      ],
      "metadata": {
        "id": "kq2qUvlPsxCw"
      },
      "id": "kq2qUvlPsxCw",
      "execution_count": null,
      "outputs": []
    },
    {
      "cell_type": "markdown",
      "id": "3eb4b12e-9ea6-492f-906c-e2a205ca0061",
      "metadata": {
        "id": "3eb4b12e-9ea6-492f-906c-e2a205ca0061"
      },
      "source": [
        "- Eliminación de puntuación y conversión a minúsculas."
      ]
    },
    {
      "cell_type": "code",
      "execution_count": null,
      "id": "6a5aa290-98ec-4e71-a4e4-69efc463f8ec",
      "metadata": {
        "id": "6a5aa290-98ec-4e71-a4e4-69efc463f8ec"
      },
      "outputs": [],
      "source": [
        "train_df['Text'] = train_df['Text'].str.lower().str.translate(str.maketrans('', '', string.punctuation))"
      ]
    },
    {
      "cell_type": "code",
      "source": [
        "val_df['Text'] = val_df['Text'].str.lower().str.translate(str.maketrans('', '', string.punctuation))"
      ],
      "metadata": {
        "id": "9DDuKTkLpBUo"
      },
      "id": "9DDuKTkLpBUo",
      "execution_count": null,
      "outputs": []
    },
    {
      "cell_type": "code",
      "source": [
        "test_df['Text'] = test_df['Text'].str.lower().str.translate(str.maketrans('', '', string.punctuation))"
      ],
      "metadata": {
        "id": "r_FXRsqOpL5p"
      },
      "id": "r_FXRsqOpL5p",
      "execution_count": null,
      "outputs": []
    },
    {
      "cell_type": "markdown",
      "source": [
        "- Muestra de dataframes listos para utilizarse."
      ],
      "metadata": {
        "id": "yzC-QCEBLJL7"
      },
      "id": "yzC-QCEBLJL7"
    },
    {
      "cell_type": "code",
      "source": [
        "train_df.head()"
      ],
      "metadata": {
        "colab": {
          "base_uri": "https://localhost:8080/"
        },
        "id": "7COXK_rHLOVY",
        "outputId": "63d85aab-9c08-47a9-be2b-657a1fc8b12e"
      },
      "id": "7COXK_rHLOVY",
      "execution_count": null,
      "outputs": [
        {
          "output_type": "execute_result",
          "data": {
            "text/plain": [
              "   Class                                              Title  \\\n",
              "0      2  Wall St. Bears Claw Back Into the Black (Reuters)   \n",
              "1      2  Carlyle Looks Toward Commercial Aerospace (Reu...   \n",
              "2      2    Oil and Economy Cloud Stocks' Outlook (Reuters)   \n",
              "3      2  Iraq Halts Oil Exports from Main Southern Pipe...   \n",
              "4      2  Oil prices soar to all-time record, posing new...   \n",
              "\n",
              "                                         Description  \\\n",
              "0  Reuters - Short-sellers, Wall Street's dwindli...   \n",
              "1  Reuters - Private investment firm Carlyle Grou...   \n",
              "2  Reuters - Soaring crude prices plus worries\\ab...   \n",
              "3  Reuters - Authorities have halted oil export\\f...   \n",
              "4  AFP - Tearaway world oil prices, toppling reco...   \n",
              "\n",
              "                                                Text  \n",
              "0  wall st bears claw back into the black reuters...  \n",
              "1  carlyle looks toward commercial aerospace reut...  \n",
              "2  oil and economy cloud stocks outlook reutersre...  \n",
              "3  iraq halts oil exports from main southern pipe...  \n",
              "4  oil prices soar to alltime record posing new m...  "
            ],
            "text/html": [
              "\n",
              "  <div id=\"df-32a0a3fc-1d87-4449-9f61-686f9256795b\">\n",
              "    <div class=\"colab-df-container\">\n",
              "      <div>\n",
              "<style scoped>\n",
              "    .dataframe tbody tr th:only-of-type {\n",
              "        vertical-align: middle;\n",
              "    }\n",
              "\n",
              "    .dataframe tbody tr th {\n",
              "        vertical-align: top;\n",
              "    }\n",
              "\n",
              "    .dataframe thead th {\n",
              "        text-align: right;\n",
              "    }\n",
              "</style>\n",
              "<table border=\"1\" class=\"dataframe\">\n",
              "  <thead>\n",
              "    <tr style=\"text-align: right;\">\n",
              "      <th></th>\n",
              "      <th>Class</th>\n",
              "      <th>Title</th>\n",
              "      <th>Description</th>\n",
              "      <th>Text</th>\n",
              "    </tr>\n",
              "  </thead>\n",
              "  <tbody>\n",
              "    <tr>\n",
              "      <th>0</th>\n",
              "      <td>2</td>\n",
              "      <td>Wall St. Bears Claw Back Into the Black (Reuters)</td>\n",
              "      <td>Reuters - Short-sellers, Wall Street's dwindli...</td>\n",
              "      <td>wall st bears claw back into the black reuters...</td>\n",
              "    </tr>\n",
              "    <tr>\n",
              "      <th>1</th>\n",
              "      <td>2</td>\n",
              "      <td>Carlyle Looks Toward Commercial Aerospace (Reu...</td>\n",
              "      <td>Reuters - Private investment firm Carlyle Grou...</td>\n",
              "      <td>carlyle looks toward commercial aerospace reut...</td>\n",
              "    </tr>\n",
              "    <tr>\n",
              "      <th>2</th>\n",
              "      <td>2</td>\n",
              "      <td>Oil and Economy Cloud Stocks' Outlook (Reuters)</td>\n",
              "      <td>Reuters - Soaring crude prices plus worries\\ab...</td>\n",
              "      <td>oil and economy cloud stocks outlook reutersre...</td>\n",
              "    </tr>\n",
              "    <tr>\n",
              "      <th>3</th>\n",
              "      <td>2</td>\n",
              "      <td>Iraq Halts Oil Exports from Main Southern Pipe...</td>\n",
              "      <td>Reuters - Authorities have halted oil export\\f...</td>\n",
              "      <td>iraq halts oil exports from main southern pipe...</td>\n",
              "    </tr>\n",
              "    <tr>\n",
              "      <th>4</th>\n",
              "      <td>2</td>\n",
              "      <td>Oil prices soar to all-time record, posing new...</td>\n",
              "      <td>AFP - Tearaway world oil prices, toppling reco...</td>\n",
              "      <td>oil prices soar to alltime record posing new m...</td>\n",
              "    </tr>\n",
              "  </tbody>\n",
              "</table>\n",
              "</div>\n",
              "      <button class=\"colab-df-convert\" onclick=\"convertToInteractive('df-32a0a3fc-1d87-4449-9f61-686f9256795b')\"\n",
              "              title=\"Convert this dataframe to an interactive table.\"\n",
              "              style=\"display:none;\">\n",
              "        \n",
              "  <svg xmlns=\"http://www.w3.org/2000/svg\" height=\"24px\"viewBox=\"0 0 24 24\"\n",
              "       width=\"24px\">\n",
              "    <path d=\"M0 0h24v24H0V0z\" fill=\"none\"/>\n",
              "    <path d=\"M18.56 5.44l.94 2.06.94-2.06 2.06-.94-2.06-.94-.94-2.06-.94 2.06-2.06.94zm-11 1L8.5 8.5l.94-2.06 2.06-.94-2.06-.94L8.5 2.5l-.94 2.06-2.06.94zm10 10l.94 2.06.94-2.06 2.06-.94-2.06-.94-.94-2.06-.94 2.06-2.06.94z\"/><path d=\"M17.41 7.96l-1.37-1.37c-.4-.4-.92-.59-1.43-.59-.52 0-1.04.2-1.43.59L10.3 9.45l-7.72 7.72c-.78.78-.78 2.05 0 2.83L4 21.41c.39.39.9.59 1.41.59.51 0 1.02-.2 1.41-.59l7.78-7.78 2.81-2.81c.8-.78.8-2.07 0-2.86zM5.41 20L4 18.59l7.72-7.72 1.47 1.35L5.41 20z\"/>\n",
              "  </svg>\n",
              "      </button>\n",
              "      \n",
              "  <style>\n",
              "    .colab-df-container {\n",
              "      display:flex;\n",
              "      flex-wrap:wrap;\n",
              "      gap: 12px;\n",
              "    }\n",
              "\n",
              "    .colab-df-convert {\n",
              "      background-color: #E8F0FE;\n",
              "      border: none;\n",
              "      border-radius: 50%;\n",
              "      cursor: pointer;\n",
              "      display: none;\n",
              "      fill: #1967D2;\n",
              "      height: 32px;\n",
              "      padding: 0 0 0 0;\n",
              "      width: 32px;\n",
              "    }\n",
              "\n",
              "    .colab-df-convert:hover {\n",
              "      background-color: #E2EBFA;\n",
              "      box-shadow: 0px 1px 2px rgba(60, 64, 67, 0.3), 0px 1px 3px 1px rgba(60, 64, 67, 0.15);\n",
              "      fill: #174EA6;\n",
              "    }\n",
              "\n",
              "    [theme=dark] .colab-df-convert {\n",
              "      background-color: #3B4455;\n",
              "      fill: #D2E3FC;\n",
              "    }\n",
              "\n",
              "    [theme=dark] .colab-df-convert:hover {\n",
              "      background-color: #434B5C;\n",
              "      box-shadow: 0px 1px 3px 1px rgba(0, 0, 0, 0.15);\n",
              "      filter: drop-shadow(0px 1px 2px rgba(0, 0, 0, 0.3));\n",
              "      fill: #FFFFFF;\n",
              "    }\n",
              "  </style>\n",
              "\n",
              "      <script>\n",
              "        const buttonEl =\n",
              "          document.querySelector('#df-32a0a3fc-1d87-4449-9f61-686f9256795b button.colab-df-convert');\n",
              "        buttonEl.style.display =\n",
              "          google.colab.kernel.accessAllowed ? 'block' : 'none';\n",
              "\n",
              "        async function convertToInteractive(key) {\n",
              "          const element = document.querySelector('#df-32a0a3fc-1d87-4449-9f61-686f9256795b');\n",
              "          const dataTable =\n",
              "            await google.colab.kernel.invokeFunction('convertToInteractive',\n",
              "                                                     [key], {});\n",
              "          if (!dataTable) return;\n",
              "\n",
              "          const docLinkHtml = 'Like what you see? Visit the ' +\n",
              "            '<a target=\"_blank\" href=https://colab.research.google.com/notebooks/data_table.ipynb>data table notebook</a>'\n",
              "            + ' to learn more about interactive tables.';\n",
              "          element.innerHTML = '';\n",
              "          dataTable['output_type'] = 'display_data';\n",
              "          await google.colab.output.renderOutput(dataTable, element);\n",
              "          const docLink = document.createElement('div');\n",
              "          docLink.innerHTML = docLinkHtml;\n",
              "          element.appendChild(docLink);\n",
              "        }\n",
              "      </script>\n",
              "    </div>\n",
              "  </div>\n",
              "  "
            ]
          },
          "metadata": {},
          "execution_count": 92
        }
      ]
    },
    {
      "cell_type": "code",
      "source": [
        "val_df.head()"
      ],
      "metadata": {
        "colab": {
          "base_uri": "https://localhost:8080/"
        },
        "id": "Yvb8cbfgLfMi",
        "outputId": "22d9b8b5-e9d5-4b6b-e78d-afbcb12d6bf3"
      },
      "id": "Yvb8cbfgLfMi",
      "execution_count": null,
      "outputs": [
        {
          "output_type": "execute_result",
          "data": {
            "text/plain": [
              "   Class                                              Title  \\\n",
              "0      2  Permira links with Apollo to join Toys  #39;R ...   \n",
              "1      2                3Com to buy TippingPoint for \\$430M   \n",
              "2      2            Icahn Files Suit vs. Mylan Laboratories   \n",
              "3      2  Fiat dismisses GM threat that car unit might g...   \n",
              "4      3  NASA: Mondays The Best Time To See Geminid Met...   \n",
              "\n",
              "                                         Description  \\\n",
              "0  Permira, the private equity firm that owns New...   \n",
              "1  DECEMBER 13, 2004 (IDG NEWS SERVICE) - 3Com Co...   \n",
              "2  Billionaire investor Carl Icahn filed a federa...   \n",
              "3  Fiat threw down the gauntlet to General Motors...   \n",
              "4  Stargazers can catch a spectacular sight if th...   \n",
              "\n",
              "                                                Text  \n",
              "0  permira links with apollo to join toys  39r 39...  \n",
              "1  3com to buy tippingpoint for 430mdecember 13 2...  \n",
              "2  icahn files suit vs mylan laboratoriesbilliona...  \n",
              "3  fiat dismisses gm threat that car unit might g...  \n",
              "4  nasa mondays the best time to see geminid mete...  "
            ],
            "text/html": [
              "\n",
              "  <div id=\"df-5ca5dfde-dfb8-4f98-b3a0-03b2e408e532\">\n",
              "    <div class=\"colab-df-container\">\n",
              "      <div>\n",
              "<style scoped>\n",
              "    .dataframe tbody tr th:only-of-type {\n",
              "        vertical-align: middle;\n",
              "    }\n",
              "\n",
              "    .dataframe tbody tr th {\n",
              "        vertical-align: top;\n",
              "    }\n",
              "\n",
              "    .dataframe thead th {\n",
              "        text-align: right;\n",
              "    }\n",
              "</style>\n",
              "<table border=\"1\" class=\"dataframe\">\n",
              "  <thead>\n",
              "    <tr style=\"text-align: right;\">\n",
              "      <th></th>\n",
              "      <th>Class</th>\n",
              "      <th>Title</th>\n",
              "      <th>Description</th>\n",
              "      <th>Text</th>\n",
              "    </tr>\n",
              "  </thead>\n",
              "  <tbody>\n",
              "    <tr>\n",
              "      <th>0</th>\n",
              "      <td>2</td>\n",
              "      <td>Permira links with Apollo to join Toys  #39;R ...</td>\n",
              "      <td>Permira, the private equity firm that owns New...</td>\n",
              "      <td>permira links with apollo to join toys  39r 39...</td>\n",
              "    </tr>\n",
              "    <tr>\n",
              "      <th>1</th>\n",
              "      <td>2</td>\n",
              "      <td>3Com to buy TippingPoint for \\$430M</td>\n",
              "      <td>DECEMBER 13, 2004 (IDG NEWS SERVICE) - 3Com Co...</td>\n",
              "      <td>3com to buy tippingpoint for 430mdecember 13 2...</td>\n",
              "    </tr>\n",
              "    <tr>\n",
              "      <th>2</th>\n",
              "      <td>2</td>\n",
              "      <td>Icahn Files Suit vs. Mylan Laboratories</td>\n",
              "      <td>Billionaire investor Carl Icahn filed a federa...</td>\n",
              "      <td>icahn files suit vs mylan laboratoriesbilliona...</td>\n",
              "    </tr>\n",
              "    <tr>\n",
              "      <th>3</th>\n",
              "      <td>2</td>\n",
              "      <td>Fiat dismisses GM threat that car unit might g...</td>\n",
              "      <td>Fiat threw down the gauntlet to General Motors...</td>\n",
              "      <td>fiat dismisses gm threat that car unit might g...</td>\n",
              "    </tr>\n",
              "    <tr>\n",
              "      <th>4</th>\n",
              "      <td>3</td>\n",
              "      <td>NASA: Mondays The Best Time To See Geminid Met...</td>\n",
              "      <td>Stargazers can catch a spectacular sight if th...</td>\n",
              "      <td>nasa mondays the best time to see geminid mete...</td>\n",
              "    </tr>\n",
              "  </tbody>\n",
              "</table>\n",
              "</div>\n",
              "      <button class=\"colab-df-convert\" onclick=\"convertToInteractive('df-5ca5dfde-dfb8-4f98-b3a0-03b2e408e532')\"\n",
              "              title=\"Convert this dataframe to an interactive table.\"\n",
              "              style=\"display:none;\">\n",
              "        \n",
              "  <svg xmlns=\"http://www.w3.org/2000/svg\" height=\"24px\"viewBox=\"0 0 24 24\"\n",
              "       width=\"24px\">\n",
              "    <path d=\"M0 0h24v24H0V0z\" fill=\"none\"/>\n",
              "    <path d=\"M18.56 5.44l.94 2.06.94-2.06 2.06-.94-2.06-.94-.94-2.06-.94 2.06-2.06.94zm-11 1L8.5 8.5l.94-2.06 2.06-.94-2.06-.94L8.5 2.5l-.94 2.06-2.06.94zm10 10l.94 2.06.94-2.06 2.06-.94-2.06-.94-.94-2.06-.94 2.06-2.06.94z\"/><path d=\"M17.41 7.96l-1.37-1.37c-.4-.4-.92-.59-1.43-.59-.52 0-1.04.2-1.43.59L10.3 9.45l-7.72 7.72c-.78.78-.78 2.05 0 2.83L4 21.41c.39.39.9.59 1.41.59.51 0 1.02-.2 1.41-.59l7.78-7.78 2.81-2.81c.8-.78.8-2.07 0-2.86zM5.41 20L4 18.59l7.72-7.72 1.47 1.35L5.41 20z\"/>\n",
              "  </svg>\n",
              "      </button>\n",
              "      \n",
              "  <style>\n",
              "    .colab-df-container {\n",
              "      display:flex;\n",
              "      flex-wrap:wrap;\n",
              "      gap: 12px;\n",
              "    }\n",
              "\n",
              "    .colab-df-convert {\n",
              "      background-color: #E8F0FE;\n",
              "      border: none;\n",
              "      border-radius: 50%;\n",
              "      cursor: pointer;\n",
              "      display: none;\n",
              "      fill: #1967D2;\n",
              "      height: 32px;\n",
              "      padding: 0 0 0 0;\n",
              "      width: 32px;\n",
              "    }\n",
              "\n",
              "    .colab-df-convert:hover {\n",
              "      background-color: #E2EBFA;\n",
              "      box-shadow: 0px 1px 2px rgba(60, 64, 67, 0.3), 0px 1px 3px 1px rgba(60, 64, 67, 0.15);\n",
              "      fill: #174EA6;\n",
              "    }\n",
              "\n",
              "    [theme=dark] .colab-df-convert {\n",
              "      background-color: #3B4455;\n",
              "      fill: #D2E3FC;\n",
              "    }\n",
              "\n",
              "    [theme=dark] .colab-df-convert:hover {\n",
              "      background-color: #434B5C;\n",
              "      box-shadow: 0px 1px 3px 1px rgba(0, 0, 0, 0.15);\n",
              "      filter: drop-shadow(0px 1px 2px rgba(0, 0, 0, 0.3));\n",
              "      fill: #FFFFFF;\n",
              "    }\n",
              "  </style>\n",
              "\n",
              "      <script>\n",
              "        const buttonEl =\n",
              "          document.querySelector('#df-5ca5dfde-dfb8-4f98-b3a0-03b2e408e532 button.colab-df-convert');\n",
              "        buttonEl.style.display =\n",
              "          google.colab.kernel.accessAllowed ? 'block' : 'none';\n",
              "\n",
              "        async function convertToInteractive(key) {\n",
              "          const element = document.querySelector('#df-5ca5dfde-dfb8-4f98-b3a0-03b2e408e532');\n",
              "          const dataTable =\n",
              "            await google.colab.kernel.invokeFunction('convertToInteractive',\n",
              "                                                     [key], {});\n",
              "          if (!dataTable) return;\n",
              "\n",
              "          const docLinkHtml = 'Like what you see? Visit the ' +\n",
              "            '<a target=\"_blank\" href=https://colab.research.google.com/notebooks/data_table.ipynb>data table notebook</a>'\n",
              "            + ' to learn more about interactive tables.';\n",
              "          element.innerHTML = '';\n",
              "          dataTable['output_type'] = 'display_data';\n",
              "          await google.colab.output.renderOutput(dataTable, element);\n",
              "          const docLink = document.createElement('div');\n",
              "          docLink.innerHTML = docLinkHtml;\n",
              "          element.appendChild(docLink);\n",
              "        }\n",
              "      </script>\n",
              "    </div>\n",
              "  </div>\n",
              "  "
            ]
          },
          "metadata": {},
          "execution_count": 93
        }
      ]
    },
    {
      "cell_type": "code",
      "source": [
        "test_df.head()"
      ],
      "metadata": {
        "colab": {
          "base_uri": "https://localhost:8080/"
        },
        "id": "S2Xyb5NCLgvh",
        "outputId": "e5a3a6e1-31ef-4e58-e812-027225056d37"
      },
      "id": "S2Xyb5NCLgvh",
      "execution_count": null,
      "outputs": [
        {
          "output_type": "execute_result",
          "data": {
            "text/plain": [
              "   Class                                              Title  \\\n",
              "0      2                  Fears for T N pension after talks   \n",
              "1      3  The Race is On: Second Private Team Sets Launc...   \n",
              "2      3      Ky. Company Wins Grant to Study Peptides (AP)   \n",
              "3      3      Prediction Unit Helps Forecast Wildfires (AP)   \n",
              "4      3        Calif. Aims to Limit Farm-Related Smog (AP)   \n",
              "\n",
              "                                         Description  \\\n",
              "0  Unions representing workers at Turner   Newall...   \n",
              "1  SPACE.com - TORONTO, Canada -- A second\\team o...   \n",
              "2  AP - A company founded by a chemistry research...   \n",
              "3  AP - It's barely dawn when Mike Fitzpatrick st...   \n",
              "4  AP - Southern California's smog-fighting agenc...   \n",
              "\n",
              "                                                Text  \n",
              "0  fears for t n pension after talksunions repres...  \n",
              "1  the race is on second private team sets launch...  \n",
              "2  ky company wins grant to study peptides apap  ...  \n",
              "3  prediction unit helps forecast wildfires apap ...  \n",
              "4  calif aims to limit farmrelated smog apap  sou...  "
            ],
            "text/html": [
              "\n",
              "  <div id=\"df-5506ef3c-ed60-4eec-b4ea-2174d90fa837\">\n",
              "    <div class=\"colab-df-container\">\n",
              "      <div>\n",
              "<style scoped>\n",
              "    .dataframe tbody tr th:only-of-type {\n",
              "        vertical-align: middle;\n",
              "    }\n",
              "\n",
              "    .dataframe tbody tr th {\n",
              "        vertical-align: top;\n",
              "    }\n",
              "\n",
              "    .dataframe thead th {\n",
              "        text-align: right;\n",
              "    }\n",
              "</style>\n",
              "<table border=\"1\" class=\"dataframe\">\n",
              "  <thead>\n",
              "    <tr style=\"text-align: right;\">\n",
              "      <th></th>\n",
              "      <th>Class</th>\n",
              "      <th>Title</th>\n",
              "      <th>Description</th>\n",
              "      <th>Text</th>\n",
              "    </tr>\n",
              "  </thead>\n",
              "  <tbody>\n",
              "    <tr>\n",
              "      <th>0</th>\n",
              "      <td>2</td>\n",
              "      <td>Fears for T N pension after talks</td>\n",
              "      <td>Unions representing workers at Turner   Newall...</td>\n",
              "      <td>fears for t n pension after talksunions repres...</td>\n",
              "    </tr>\n",
              "    <tr>\n",
              "      <th>1</th>\n",
              "      <td>3</td>\n",
              "      <td>The Race is On: Second Private Team Sets Launc...</td>\n",
              "      <td>SPACE.com - TORONTO, Canada -- A second\\team o...</td>\n",
              "      <td>the race is on second private team sets launch...</td>\n",
              "    </tr>\n",
              "    <tr>\n",
              "      <th>2</th>\n",
              "      <td>3</td>\n",
              "      <td>Ky. Company Wins Grant to Study Peptides (AP)</td>\n",
              "      <td>AP - A company founded by a chemistry research...</td>\n",
              "      <td>ky company wins grant to study peptides apap  ...</td>\n",
              "    </tr>\n",
              "    <tr>\n",
              "      <th>3</th>\n",
              "      <td>3</td>\n",
              "      <td>Prediction Unit Helps Forecast Wildfires (AP)</td>\n",
              "      <td>AP - It's barely dawn when Mike Fitzpatrick st...</td>\n",
              "      <td>prediction unit helps forecast wildfires apap ...</td>\n",
              "    </tr>\n",
              "    <tr>\n",
              "      <th>4</th>\n",
              "      <td>3</td>\n",
              "      <td>Calif. Aims to Limit Farm-Related Smog (AP)</td>\n",
              "      <td>AP - Southern California's smog-fighting agenc...</td>\n",
              "      <td>calif aims to limit farmrelated smog apap  sou...</td>\n",
              "    </tr>\n",
              "  </tbody>\n",
              "</table>\n",
              "</div>\n",
              "      <button class=\"colab-df-convert\" onclick=\"convertToInteractive('df-5506ef3c-ed60-4eec-b4ea-2174d90fa837')\"\n",
              "              title=\"Convert this dataframe to an interactive table.\"\n",
              "              style=\"display:none;\">\n",
              "        \n",
              "  <svg xmlns=\"http://www.w3.org/2000/svg\" height=\"24px\"viewBox=\"0 0 24 24\"\n",
              "       width=\"24px\">\n",
              "    <path d=\"M0 0h24v24H0V0z\" fill=\"none\"/>\n",
              "    <path d=\"M18.56 5.44l.94 2.06.94-2.06 2.06-.94-2.06-.94-.94-2.06-.94 2.06-2.06.94zm-11 1L8.5 8.5l.94-2.06 2.06-.94-2.06-.94L8.5 2.5l-.94 2.06-2.06.94zm10 10l.94 2.06.94-2.06 2.06-.94-2.06-.94-.94-2.06-.94 2.06-2.06.94z\"/><path d=\"M17.41 7.96l-1.37-1.37c-.4-.4-.92-.59-1.43-.59-.52 0-1.04.2-1.43.59L10.3 9.45l-7.72 7.72c-.78.78-.78 2.05 0 2.83L4 21.41c.39.39.9.59 1.41.59.51 0 1.02-.2 1.41-.59l7.78-7.78 2.81-2.81c.8-.78.8-2.07 0-2.86zM5.41 20L4 18.59l7.72-7.72 1.47 1.35L5.41 20z\"/>\n",
              "  </svg>\n",
              "      </button>\n",
              "      \n",
              "  <style>\n",
              "    .colab-df-container {\n",
              "      display:flex;\n",
              "      flex-wrap:wrap;\n",
              "      gap: 12px;\n",
              "    }\n",
              "\n",
              "    .colab-df-convert {\n",
              "      background-color: #E8F0FE;\n",
              "      border: none;\n",
              "      border-radius: 50%;\n",
              "      cursor: pointer;\n",
              "      display: none;\n",
              "      fill: #1967D2;\n",
              "      height: 32px;\n",
              "      padding: 0 0 0 0;\n",
              "      width: 32px;\n",
              "    }\n",
              "\n",
              "    .colab-df-convert:hover {\n",
              "      background-color: #E2EBFA;\n",
              "      box-shadow: 0px 1px 2px rgba(60, 64, 67, 0.3), 0px 1px 3px 1px rgba(60, 64, 67, 0.15);\n",
              "      fill: #174EA6;\n",
              "    }\n",
              "\n",
              "    [theme=dark] .colab-df-convert {\n",
              "      background-color: #3B4455;\n",
              "      fill: #D2E3FC;\n",
              "    }\n",
              "\n",
              "    [theme=dark] .colab-df-convert:hover {\n",
              "      background-color: #434B5C;\n",
              "      box-shadow: 0px 1px 3px 1px rgba(0, 0, 0, 0.15);\n",
              "      filter: drop-shadow(0px 1px 2px rgba(0, 0, 0, 0.3));\n",
              "      fill: #FFFFFF;\n",
              "    }\n",
              "  </style>\n",
              "\n",
              "      <script>\n",
              "        const buttonEl =\n",
              "          document.querySelector('#df-5506ef3c-ed60-4eec-b4ea-2174d90fa837 button.colab-df-convert');\n",
              "        buttonEl.style.display =\n",
              "          google.colab.kernel.accessAllowed ? 'block' : 'none';\n",
              "\n",
              "        async function convertToInteractive(key) {\n",
              "          const element = document.querySelector('#df-5506ef3c-ed60-4eec-b4ea-2174d90fa837');\n",
              "          const dataTable =\n",
              "            await google.colab.kernel.invokeFunction('convertToInteractive',\n",
              "                                                     [key], {});\n",
              "          if (!dataTable) return;\n",
              "\n",
              "          const docLinkHtml = 'Like what you see? Visit the ' +\n",
              "            '<a target=\"_blank\" href=https://colab.research.google.com/notebooks/data_table.ipynb>data table notebook</a>'\n",
              "            + ' to learn more about interactive tables.';\n",
              "          element.innerHTML = '';\n",
              "          dataTable['output_type'] = 'display_data';\n",
              "          await google.colab.output.renderOutput(dataTable, element);\n",
              "          const docLink = document.createElement('div');\n",
              "          docLink.innerHTML = docLinkHtml;\n",
              "          element.appendChild(docLink);\n",
              "        }\n",
              "      </script>\n",
              "    </div>\n",
              "  </div>\n",
              "  "
            ]
          },
          "metadata": {},
          "execution_count": 94
        }
      ]
    },
    {
      "cell_type": "markdown",
      "id": "a651ba97-16f3-47fd-9798-5353586f346d",
      "metadata": {
        "id": "a651ba97-16f3-47fd-9798-5353586f346d"
      },
      "source": [
        "## Pipeline"
      ]
    },
    {
      "cell_type": "code",
      "execution_count": null,
      "id": "5b021552-fe16-4ce9-b3f4-7ec478c81ec2",
      "metadata": {
        "colab": {
          "base_uri": "https://localhost:8080/"
        },
        "id": "5b021552-fe16-4ce9-b3f4-7ec478c81ec2",
        "outputId": "d36b1c58-14db-4e41-97b9-089e15b7575d"
      },
      "outputs": [
        {
          "output_type": "execute_result",
          "data": {
            "text/plain": [
              "1    27911\n",
              "0    27871\n",
              "3    27749\n",
              "2    27642\n",
              "Name: Class, dtype: int64"
            ]
          },
          "metadata": {},
          "execution_count": 24
        }
      ],
      "source": [
        "train_df['Class'].value_counts()"
      ]
    },
    {
      "cell_type": "code",
      "source": [
        "val_df['Class'].value_counts()"
      ],
      "metadata": {
        "colab": {
          "base_uri": "https://localhost:8080/"
        },
        "id": "JMOZw2Lc4zy0",
        "outputId": "bab61541-d616-49f9-b5a0-5f9abdad40ff"
      },
      "id": "JMOZw2Lc4zy0",
      "execution_count": null,
      "outputs": [
        {
          "output_type": "execute_result",
          "data": {
            "text/plain": [
              "2    1972\n",
              "1    1923\n",
              "0    1884\n",
              "3    1775\n",
              "Name: Class, dtype: int64"
            ]
          },
          "metadata": {},
          "execution_count": 25
        }
      ]
    },
    {
      "cell_type": "code",
      "source": [
        "test_df['Class'].value_counts()"
      ],
      "metadata": {
        "colab": {
          "base_uri": "https://localhost:8080/"
        },
        "id": "MZiPxEBi421c",
        "outputId": "b23649b1-3977-4cc1-b101-0aefbb2a494f"
      },
      "id": "MZiPxEBi421c",
      "execution_count": null,
      "outputs": [
        {
          "output_type": "execute_result",
          "data": {
            "text/plain": [
              "0    1900\n",
              "3    1899\n",
              "1    1899\n",
              "2    1896\n",
              "Name: Class, dtype: int64"
            ]
          },
          "metadata": {},
          "execution_count": 26
        }
      ]
    },
    {
      "cell_type": "code",
      "source": [
        "X_train, y_train = train_df['Text'].tolist(), train_df['Class'].tolist()\n",
        "X_val,   y_val   = val_df['Text'].tolist(),   val_df['Class'].tolist()\n",
        "X_test,  y_test  = test_df['Text'].tolist(),  test_df['Class'].tolist()"
      ],
      "metadata": {
        "id": "2LzuhdpP6T5q"
      },
      "id": "2LzuhdpP6T5q",
      "execution_count": null,
      "outputs": []
    },
    {
      "cell_type": "code",
      "execution_count": null,
      "id": "36d1a088-4c8c-4851-b53f-07e3432c3870",
      "metadata": {
        "scrolled": true,
        "tags": [],
        "colab": {
          "base_uri": "https://localhost:8080/"
        },
        "id": "36d1a088-4c8c-4851-b53f-07e3432c3870",
        "outputId": "22829a16-4d87-4f15-ae3a-4583dcd2c29f"
      },
      "outputs": [
        {
          "output_type": "stream",
          "name": "stdout",
          "text": [
            "(<tf.Tensor: shape=(), dtype=string, numpy=b'wall st bears claw back into the black reutersreuters  shortsellers wall streets dwindlingband of ultracynics are seeing green again'>, <tf.Tensor: shape=(), dtype=int32, numpy=2>)\n"
          ]
        }
      ],
      "source": [
        "raw_train_ds = tf.data.Dataset.from_tensor_slices((X_train, y_train))\n",
        "raw_val_ds = tf.data.Dataset.from_tensor_slices((X_val, y_val))\n",
        "raw_test_ds = tf.data.Dataset.from_tensor_slices((X_test, y_test))"
      ]
    },
    {
      "cell_type": "code",
      "execution_count": null,
      "id": "52401e10-ade1-4f2a-9de7-036b7ee85556",
      "metadata": {
        "id": "52401e10-ade1-4f2a-9de7-036b7ee85556"
      },
      "outputs": [],
      "source": [
        "vocab_size = 15000\n",
        "\n",
        "vectorize_layer = TextVectorization(\n",
        "    standardize=None,\n",
        "    max_tokens=vocab_size,\n",
        "    output_mode='tf-idf')\n",
        "\n",
        "text_ds = raw_train_ds.map(lambda x, y: x)\n",
        "vectorize_layer.adapt(text_ds)"
      ]
    },
    {
      "cell_type": "code",
      "execution_count": null,
      "metadata": {
        "tags": [],
        "id": "862068ba-6861-441c-9ee2-dcd71a818bb1"
      },
      "outputs": [],
      "source": [
        "batch_size = 16\n",
        "train_ds = raw_train_ds.shuffle(20000).batch(batch_size)\n",
        "val_ds = raw_val_ds.batch(batch_size)"
      ],
      "id": "862068ba-6861-441c-9ee2-dcd71a818bb1"
    },
    {
      "cell_type": "markdown",
      "id": "938c3502-a5d2-4124-a485-00046a013ed2",
      "metadata": {
        "id": "938c3502-a5d2-4124-a485-00046a013ed2"
      },
      "source": [
        "## Red Neuronal sin Dropout"
      ]
    },
    {
      "cell_type": "markdown",
      "source": [
        "### Modelo"
      ],
      "metadata": {
        "id": "f9DoC3ooMoUZ"
      },
      "id": "f9DoC3ooMoUZ"
    },
    {
      "cell_type": "code",
      "source": [
        "class Linear(tf.keras.layers.Layer):\n",
        "    def __init__(self, num_neurons, activation=None):\n",
        "        super(Linear, self).__init__()\n",
        "        self.num_neurons = num_neurons\n",
        "        self.activation = activation\n",
        "\n",
        "    def build(self, input_shape):\n",
        "        self.kernel = self.add_weight(\"kernel\",\n",
        "                                      shape=[int(input_shape[-1]), self.num_neurons])\n",
        "        self.bias = self.add_weight(\"bias\", shape=[1,self.num_neurons])\n",
        "\n",
        "    def call(self, inputs):\n",
        "        x = tf.matmul(inputs, self.kernel) + self.bias\n",
        "        \n",
        "        # Agregar función de activación\n",
        "        if self.activation == 'tanh':\n",
        "            x = tf.math.tanh(x)\n",
        "        elif self.activation == 'relu':\n",
        "            x = tf.nn.relu(x)\n",
        "        elif self.activation == 'softmax':\n",
        "            x = tf.nn.softmax(x)\n",
        "        else:\n",
        "            x = tf.math.sigmoid(x)\n",
        "            \n",
        "        return x"
      ],
      "metadata": {
        "id": "xDqUNxjkUguF"
      },
      "id": "xDqUNxjkUguF",
      "execution_count": null,
      "outputs": []
    },
    {
      "cell_type": "markdown",
      "id": "41d15ef2-a980-4502-9ed4-b540455f7cb5",
      "metadata": {
        "id": "41d15ef2-a980-4502-9ed4-b540455f7cb5"
      },
      "source": [
        "### Entrenamiento"
      ]
    },
    {
      "cell_type": "code",
      "execution_count": null,
      "id": "fc440688-eeec-43ed-85c9-0cf1482e9362",
      "metadata": {
        "tags": [],
        "id": "fc440688-eeec-43ed-85c9-0cf1482e9362"
      },
      "outputs": [],
      "source": [
        "model = Sequential([\n",
        "  vectorize_layer,\n",
        "  Linear(20, activation='relu'),\n",
        "  Linear(4, activation='softmax')\n",
        "])"
      ]
    },
    {
      "cell_type": "code",
      "source": [
        "model.compile(optimizer=tf.keras.optimizers.Adam(learning_rate=1e-3), #0.001\n",
        "              loss=tf.keras.losses.SparseCategoricalCrossentropy(), metrics=['accuracy'])"
      ],
      "metadata": {
        "id": "fWJ1yjnPApPt"
      },
      "id": "fWJ1yjnPApPt",
      "execution_count": null,
      "outputs": []
    },
    {
      "cell_type": "code",
      "source": [
        "model.fit(\n",
        "    x= X_train,\n",
        "    y= y_train,\n",
        "    epochs=5,\n",
        "    batch_size=16,\n",
        "    verbose='auto',\n",
        "    validation_data=(X_val, y_val),\n",
        "    shuffle=True,\n",
        "    class_weight=None,\n",
        "    sample_weight=None,\n",
        "    initial_epoch=0,\n",
        "    steps_per_epoch=None,\n",
        "    validation_steps=None,\n",
        "    validation_batch_size=None,\n",
        "    validation_freq=1,\n",
        "    max_queue_size=10,\n",
        "    workers=1,\n",
        "    use_multiprocessing=False\n",
        ")"
      ],
      "metadata": {
        "id": "94blMILRBS51",
        "colab": {
          "base_uri": "https://localhost:8080/"
        },
        "outputId": "5ad429d6-e09d-4822-beed-9375c3b5c016"
      },
      "id": "94blMILRBS51",
      "execution_count": null,
      "outputs": [
        {
          "output_type": "stream",
          "name": "stdout",
          "text": [
            "Epoch 1/5\n",
            "6949/6949 [==============================] - 46s 6ms/step - loss: 0.3074 - accuracy: 0.8981 - val_loss: 0.2682 - val_accuracy: 0.9075\n",
            "Epoch 2/5\n",
            "6949/6949 [==============================] - 38s 5ms/step - loss: 0.1704 - accuracy: 0.9397 - val_loss: 0.3033 - val_accuracy: 0.8973\n",
            "Epoch 3/5\n",
            "6949/6949 [==============================] - 39s 6ms/step - loss: 0.1152 - accuracy: 0.9591 - val_loss: 0.3642 - val_accuracy: 0.8934\n",
            "Epoch 4/5\n",
            "6949/6949 [==============================] - 38s 5ms/step - loss: 0.0770 - accuracy: 0.9726 - val_loss: 0.4448 - val_accuracy: 0.8913\n",
            "Epoch 5/5\n",
            "6949/6949 [==============================] - 39s 6ms/step - loss: 0.0516 - accuracy: 0.9819 - val_loss: 0.5841 - val_accuracy: 0.8831\n"
          ]
        },
        {
          "output_type": "execute_result",
          "data": {
            "text/plain": [
              "<keras.callbacks.History at 0x7f65e0f5cbb0>"
            ]
          },
          "metadata": {},
          "execution_count": 36
        }
      ]
    },
    {
      "cell_type": "code",
      "source": [
        "model.evaluate(\n",
        "    x=X_test,\n",
        "    y=y_test,\n",
        "    batch_size=None,\n",
        "    verbose='auto',\n",
        "    sample_weight=None,\n",
        "    steps=None,\n",
        "    callbacks=None,\n",
        "    max_queue_size=10,\n",
        "    workers=1,\n",
        "    use_multiprocessing=False,\n",
        "    return_dict=False,\n",
        ")"
      ],
      "metadata": {
        "colab": {
          "base_uri": "https://localhost:8080/"
        },
        "id": "AFO1oFY84iqT",
        "outputId": "966c4e4d-5ed1-4791-ea5d-e41c6ec5f643"
      },
      "id": "AFO1oFY84iqT",
      "execution_count": null,
      "outputs": [
        {
          "output_type": "stream",
          "name": "stdout",
          "text": [
            "238/238 [==============================] - 1s 4ms/step - loss: 0.5102 - accuracy: 0.8993\n"
          ]
        },
        {
          "output_type": "execute_result",
          "data": {
            "text/plain": [
              "[0.5101924538612366, 0.899262547492981]"
            ]
          },
          "metadata": {},
          "execution_count": 37
        }
      ]
    },
    {
      "cell_type": "code",
      "source": [
        "class_names = [\"Internacional\", \"Deportes\", \"Negocios\", \"Ciencia\"]\n",
        "class estimator:\n",
        "  _estimator_type = ''\n",
        "  classes_=[]\n",
        "  def __init__(self, model, classes):\n",
        "    self.model = model\n",
        "    self._estimator_type = 'classifier'\n",
        "    self.classes_ = classes\n",
        "  def predict(self, X):\n",
        "    y_prob= self.model.predict(X)\n",
        "    y_pred = y_prob.argmax(axis=1)\n",
        "    return y_pred\n",
        "\n",
        "classifier = estimator(model, class_names)\n",
        "\n",
        "display = ConfusionMatrixDisplay.from_estimator(\n",
        "        classifier,\n",
        "        X_test,\n",
        "        y_test,\n",
        "        display_labels=class_names,\n",
        "        cmap=plot.cm.Blues\n",
        ")"
      ],
      "metadata": {
        "colab": {
          "base_uri": "https://localhost:8080/",
          "height": 466
        },
        "id": "DlI-LKwmj-dN",
        "outputId": "f1244eb5-0440-496c-e9f8-6a346cfa8020"
      },
      "id": "DlI-LKwmj-dN",
      "execution_count": null,
      "outputs": [
        {
          "output_type": "stream",
          "name": "stdout",
          "text": [
            "238/238 [==============================] - 1s 3ms/step\n"
          ]
        },
        {
          "output_type": "display_data",
          "data": {
            "text/plain": [
              "<Figure size 640x480 with 2 Axes>"
            ],
            "image/png": "[encoded data removed]"
          },
          "metadata": {}
        }
      ]
    },
    {
      "cell_type": "code",
      "source": [
        "y_pred = classifier.predict(X_test)\n",
        "print(classification_report(y_pred,y_test,target_names=class_names  ))"
      ],
      "metadata": {
        "id": "WPSIR4eYk18e",
        "colab": {
          "base_uri": "https://localhost:8080/"
        },
        "outputId": "051a4e52-455d-422a-dd8d-d6195315ed51"
      },
      "id": "WPSIR4eYk18e",
      "execution_count": null,
      "outputs": [
        {
          "output_type": "stream",
          "name": "stdout",
          "text": [
            "238/238 [==============================] - 1s 3ms/step\n",
            "               precision    recall  f1-score   support\n",
            "\n",
            "Internacional       0.90      0.91      0.91      1868\n",
            "     Deportes       0.96      0.96      0.96      1898\n",
            "     Negocios       0.87      0.86      0.86      1918\n",
            "      Ciencia       0.87      0.86      0.87      1910\n",
            "\n",
            "     accuracy                           0.90      7594\n",
            "    macro avg       0.90      0.90      0.90      7594\n",
            " weighted avg       0.90      0.90      0.90      7594\n",
            "\n"
          ]
        }
      ]
    },
    {
      "cell_type": "markdown",
      "source": [
        "## Red Neuronal con Dropout"
      ],
      "metadata": {
        "id": "8MjdCkU1M3Hc"
      },
      "id": "8MjdCkU1M3Hc"
    },
    {
      "cell_type": "markdown",
      "source": [
        "- Se utiliza el mismo modelo que en la red neuronal sin Dropout."
      ],
      "metadata": {
        "id": "FE6oCvWEPr9d"
      },
      "id": "FE6oCvWEPr9d"
    },
    {
      "cell_type": "markdown",
      "source": [
        "### Entrenamiento"
      ],
      "metadata": {
        "id": "A4EC5v0UNTQ9"
      },
      "id": "A4EC5v0UNTQ9"
    },
    {
      "cell_type": "code",
      "execution_count": null,
      "metadata": {
        "tags": [],
        "id": "dThQkTdONela"
      },
      "outputs": [],
      "source": [
        "modelD = Sequential([\n",
        "  vectorize_layer,\n",
        "  Linear(20, activation='relu'),\n",
        "  layers.Dropout(0.5),\n",
        "  Linear(4, activation='softmax')\n",
        "])"
      ],
      "id": "dThQkTdONela"
    },
    {
      "cell_type": "code",
      "source": [
        "modelD.compile(optimizer=tf.keras.optimizers.Adam(learning_rate=1e-3), #0.001\n",
        "              loss=tf.keras.losses.SparseCategoricalCrossentropy(), metrics=['accuracy'])"
      ],
      "metadata": {
        "id": "pLFRIm7cNelb"
      },
      "execution_count": null,
      "outputs": [],
      "id": "pLFRIm7cNelb"
    },
    {
      "cell_type": "code",
      "source": [
        "modelD.fit(\n",
        "    x= X_train,\n",
        "    y= y_train,\n",
        "    epochs=5,\n",
        "    batch_size=16,\n",
        "    verbose='auto',\n",
        "    validation_data=(X_val, y_val),\n",
        "    shuffle=True,\n",
        "    class_weight=None,\n",
        "    sample_weight=None,\n",
        "    initial_epoch=0,\n",
        "    steps_per_epoch=None,\n",
        "    validation_steps=None,\n",
        "    validation_batch_size=None,\n",
        "    validation_freq=1,\n",
        "    max_queue_size=10,\n",
        "    workers=1,\n",
        "    use_multiprocessing=False\n",
        ")"
      ],
      "metadata": {
        "colab": {
          "base_uri": "https://localhost:8080/"
        },
        "outputId": "66a683ca-9916-4fdf-8414-95f80910d567",
        "id": "4mBto_ASNeld"
      },
      "execution_count": null,
      "outputs": [
        {
          "output_type": "stream",
          "name": "stdout",
          "text": [
            "Epoch 1/5\n",
            "6949/6949 [==============================] - 41s 6ms/step - loss: 0.4474 - accuracy: 0.8481 - val_loss: 0.2823 - val_accuracy: 0.9020\n",
            "Epoch 2/5\n",
            "6949/6949 [==============================] - 39s 6ms/step - loss: 0.3167 - accuracy: 0.8945 - val_loss: 0.2823 - val_accuracy: 0.9081\n",
            "Epoch 3/5\n",
            "6949/6949 [==============================] - 39s 6ms/step - loss: 0.2814 - accuracy: 0.9052 - val_loss: 0.2974 - val_accuracy: 0.9053\n",
            "Epoch 4/5\n",
            "6949/6949 [==============================] - 40s 6ms/step - loss: 0.2607 - accuracy: 0.9122 - val_loss: 0.3097 - val_accuracy: 0.9026\n",
            "Epoch 5/5\n",
            "6949/6949 [==============================] - 39s 6ms/step - loss: 0.2486 - accuracy: 0.9155 - val_loss: 0.3306 - val_accuracy: 0.9036\n"
          ]
        },
        {
          "output_type": "execute_result",
          "data": {
            "text/plain": [
              "<keras.callbacks.History at 0x7f65e0113400>"
            ]
          },
          "metadata": {},
          "execution_count": 54
        }
      ],
      "id": "4mBto_ASNeld"
    },
    {
      "cell_type": "code",
      "source": [
        "modelD.evaluate(\n",
        "    x=X_test,\n",
        "    y=y_test,\n",
        "    batch_size=None,\n",
        "    verbose='auto',\n",
        "    sample_weight=None,\n",
        "    steps=None,\n",
        "    callbacks=None,\n",
        "    max_queue_size=10,\n",
        "    workers=1,\n",
        "    use_multiprocessing=False,\n",
        "    return_dict=False,\n",
        ")"
      ],
      "metadata": {
        "colab": {
          "base_uri": "https://localhost:8080/"
        },
        "outputId": "46b3ef57-1eac-4191-a196-7629f29d4fbb",
        "id": "m-H133LFNele"
      },
      "execution_count": null,
      "outputs": [
        {
          "output_type": "stream",
          "name": "stdout",
          "text": [
            "238/238 [==============================] - 1s 4ms/step - loss: 0.3063 - accuracy: 0.9115\n"
          ]
        },
        {
          "output_type": "execute_result",
          "data": {
            "text/plain": [
              "[0.3063361346721649, 0.911509096622467]"
            ]
          },
          "metadata": {},
          "execution_count": 55
        }
      ],
      "id": "m-H133LFNele"
    },
    {
      "cell_type": "code",
      "source": [
        "classifierD = estimator(modelD, class_names)\n",
        "\n",
        "displayD = ConfusionMatrixDisplay.from_estimator(\n",
        "        classifierD,\n",
        "        X_test,\n",
        "        y_test,\n",
        "        display_labels=class_names,\n",
        "        cmap=plot.cm.Blues\n",
        ")"
      ],
      "metadata": {
        "colab": {
          "base_uri": "https://localhost:8080/",
          "height": 466
        },
        "outputId": "725ba8fc-9213-448e-851e-ea4fda9d4f37",
        "id": "GnLTsOCDNele"
      },
      "execution_count": null,
      "outputs": [
        {
          "output_type": "stream",
          "name": "stdout",
          "text": [
            "238/238 [==============================] - 1s 4ms/step\n"
          ]
        },
        {
          "output_type": "display_data",
          "data": {
            "text/plain": [
              "<Figure size 640x480 with 2 Axes>"
            ],
            "image/png": "[encoded data removed]"
          },
          "metadata": {}
        }
      ],
      "id": "GnLTsOCDNele"
    },
    {
      "cell_type": "code",
      "source": [
        "y_predD = classifierD.predict(X_test)\n",
        "print(classification_report(y_predD,y_test,target_names=class_names  ))"
      ],
      "metadata": {
        "colab": {
          "base_uri": "https://localhost:8080/"
        },
        "outputId": "af8a91ef-d671-40fb-d9f6-a4f967c41e53",
        "id": "ez-Lh22PNelf"
      },
      "execution_count": null,
      "outputs": [
        {
          "output_type": "stream",
          "name": "stdout",
          "text": [
            "238/238 [==============================] - 1s 3ms/step\n",
            "               precision    recall  f1-score   support\n",
            "\n",
            "Internacional       0.90      0.94      0.92      1816\n",
            "     Deportes       0.98      0.95      0.97      1951\n",
            "     Negocios       0.87      0.88      0.88      1874\n",
            "      Ciencia       0.90      0.87      0.89      1953\n",
            "\n",
            "     accuracy                           0.91      7594\n",
            "    macro avg       0.91      0.91      0.91      7594\n",
            " weighted avg       0.91      0.91      0.91      7594\n",
            "\n"
          ]
        }
      ],
      "id": "ez-Lh22PNelf"
    },
    {
      "cell_type": "markdown",
      "source": [
        "## Naive Bayes"
      ],
      "metadata": {
        "id": "DZV6Ddlh1zE6"
      },
      "id": "DZV6Ddlh1zE6"
    },
    {
      "cell_type": "markdown",
      "source": [
        "### TF-IDF sin stop words y con lematización"
      ],
      "metadata": {
        "id": "I6qS9Rx0CDha"
      },
      "id": "I6qS9Rx0CDha"
    },
    {
      "cell_type": "markdown",
      "source": [
        "- Unir datos de entrenamiento y prueba"
      ],
      "metadata": {
        "id": "_FzkLzyPEpOQ"
      },
      "id": "_FzkLzyPEpOQ"
    },
    {
      "cell_type": "code",
      "source": [
        "df_aux = pd.concat([train_df, test_df], axis=0)"
      ],
      "metadata": {
        "id": "5E3MG0VfEmNn"
      },
      "id": "5E3MG0VfEmNn",
      "execution_count": null,
      "outputs": []
    },
    {
      "cell_type": "markdown",
      "source": [
        "- Lematización"
      ],
      "metadata": {
        "id": "SEiX0UWUFS-Y"
      },
      "id": "SEiX0UWUFS-Y"
    },
    {
      "cell_type": "code",
      "source": [
        "import nltk\n",
        "nltk.download('punkt')\n",
        "from nltk.stem import WordNetLemmatizer\n",
        "from nltk.tokenize import word_tokenize\n",
        "nltk.download('wordnet')\n",
        "from nltk.corpus import stopwords\n",
        "\n",
        "lemmatizer = WordNetLemmatizer()\n",
        "nltk.download('stopwords')\n",
        "stop_words = set(stopwords.words('english'))\n",
        "\n",
        "def lemmatize_words(text):  #funcion obtenida con chatgpt\n",
        "    words = word_tokenize(text)\n",
        "    lemmatized_words = [lemmatizer.lemmatize(word, pos='v') for word in words]\n",
        "    filter_words = [word for word in lemmatized_words if word not in stop_words]\n",
        "    return ' '.join(filter_words)\n",
        "\n",
        "df_aux['lem_text'] = df_aux['Text'].apply(lemmatize_words)\n",
        "df_aux.head()"
      ],
      "metadata": {
        "colab": {
          "base_uri": "https://localhost:8080/",
          "height": 444
        },
        "id": "E-uMGhiP5ffh",
        "outputId": "badbb04b-4599-40ce-eda4-86e8924ee050"
      },
      "id": "E-uMGhiP5ffh",
      "execution_count": null,
      "outputs": [
        {
          "output_type": "stream",
          "name": "stderr",
          "text": [
            "[nltk_data] Downloading package punkt to /root/nltk_data...\n",
            "[nltk_data]   Package punkt is already up-to-date!\n",
            "[nltk_data] Downloading package wordnet to /root/nltk_data...\n",
            "[nltk_data]   Package wordnet is already up-to-date!\n",
            "[nltk_data] Downloading package stopwords to /root/nltk_data...\n",
            "[nltk_data]   Package stopwords is already up-to-date!\n"
          ]
        },
        {
          "output_type": "execute_result",
          "data": {
            "text/plain": [
              "   Class                                              Title  \\\n",
              "0      2  Wall St. Bears Claw Back Into the Black (Reuters)   \n",
              "1      2  Carlyle Looks Toward Commercial Aerospace (Reu...   \n",
              "2      2    Oil and Economy Cloud Stocks' Outlook (Reuters)   \n",
              "3      2  Iraq Halts Oil Exports from Main Southern Pipe...   \n",
              "4      2  Oil prices soar to all-time record, posing new...   \n",
              "\n",
              "                                         Description  \\\n",
              "0  Reuters - Short-sellers, Wall Street's dwindli...   \n",
              "1  Reuters - Private investment firm Carlyle Grou...   \n",
              "2  Reuters - Soaring crude prices plus worries\\ab...   \n",
              "3  Reuters - Authorities have halted oil export\\f...   \n",
              "4  AFP - Tearaway world oil prices, toppling reco...   \n",
              "\n",
              "                                                Text  \\\n",
              "0  wall st bears claw back into the black reuters...   \n",
              "1  carlyle looks toward commercial aerospace reut...   \n",
              "2  oil and economy cloud stocks outlook reutersre...   \n",
              "3  iraq halts oil exports from main southern pipe...   \n",
              "4  oil prices soar to alltime record posing new m...   \n",
              "\n",
              "                                            lem_text  \n",
              "0  wall st bear claw back black reutersreuters sh...  \n",
              "1  carlyle look toward commercial aerospace reute...  \n",
              "2  oil economy cloud stock outlook reutersreuters...  \n",
              "3  iraq halt oil export main southern pipeline re...  \n",
              "4  oil price soar alltime record pose new menace ...  "
            ],
            "text/html": [
              "\n",
              "  <div id=\"df-18a4ff10-32f7-411d-aae9-c732a7eb9cbd\">\n",
              "    <div class=\"colab-df-container\">\n",
              "      <div>\n",
              "<style scoped>\n",
              "    .dataframe tbody tr th:only-of-type {\n",
              "        vertical-align: middle;\n",
              "    }\n",
              "\n",
              "    .dataframe tbody tr th {\n",
              "        vertical-align: top;\n",
              "    }\n",
              "\n",
              "    .dataframe thead th {\n",
              "        text-align: right;\n",
              "    }\n",
              "</style>\n",
              "<table border=\"1\" class=\"dataframe\">\n",
              "  <thead>\n",
              "    <tr style=\"text-align: right;\">\n",
              "      <th></th>\n",
              "      <th>Class</th>\n",
              "      <th>Title</th>\n",
              "      <th>Description</th>\n",
              "      <th>Text</th>\n",
              "      <th>lem_text</th>\n",
              "    </tr>\n",
              "  </thead>\n",
              "  <tbody>\n",
              "    <tr>\n",
              "      <th>0</th>\n",
              "      <td>2</td>\n",
              "      <td>Wall St. Bears Claw Back Into the Black (Reuters)</td>\n",
              "      <td>Reuters - Short-sellers, Wall Street's dwindli...</td>\n",
              "      <td>wall st bears claw back into the black reuters...</td>\n",
              "      <td>wall st bear claw back black reutersreuters sh...</td>\n",
              "    </tr>\n",
              "    <tr>\n",
              "      <th>1</th>\n",
              "      <td>2</td>\n",
              "      <td>Carlyle Looks Toward Commercial Aerospace (Reu...</td>\n",
              "      <td>Reuters - Private investment firm Carlyle Grou...</td>\n",
              "      <td>carlyle looks toward commercial aerospace reut...</td>\n",
              "      <td>carlyle look toward commercial aerospace reute...</td>\n",
              "    </tr>\n",
              "    <tr>\n",
              "      <th>2</th>\n",
              "      <td>2</td>\n",
              "      <td>Oil and Economy Cloud Stocks' Outlook (Reuters)</td>\n",
              "      <td>Reuters - Soaring crude prices plus worries\\ab...</td>\n",
              "      <td>oil and economy cloud stocks outlook reutersre...</td>\n",
              "      <td>oil economy cloud stock outlook reutersreuters...</td>\n",
              "    </tr>\n",
              "    <tr>\n",
              "      <th>3</th>\n",
              "      <td>2</td>\n",
              "      <td>Iraq Halts Oil Exports from Main Southern Pipe...</td>\n",
              "      <td>Reuters - Authorities have halted oil export\\f...</td>\n",
              "      <td>iraq halts oil exports from main southern pipe...</td>\n",
              "      <td>iraq halt oil export main southern pipeline re...</td>\n",
              "    </tr>\n",
              "    <tr>\n",
              "      <th>4</th>\n",
              "      <td>2</td>\n",
              "      <td>Oil prices soar to all-time record, posing new...</td>\n",
              "      <td>AFP - Tearaway world oil prices, toppling reco...</td>\n",
              "      <td>oil prices soar to alltime record posing new m...</td>\n",
              "      <td>oil price soar alltime record pose new menace ...</td>\n",
              "    </tr>\n",
              "  </tbody>\n",
              "</table>\n",
              "</div>\n",
              "      <button class=\"colab-df-convert\" onclick=\"convertToInteractive('df-18a4ff10-32f7-411d-aae9-c732a7eb9cbd')\"\n",
              "              title=\"Convert this dataframe to an interactive table.\"\n",
              "              style=\"display:none;\">\n",
              "        \n",
              "  <svg xmlns=\"http://www.w3.org/2000/svg\" height=\"24px\"viewBox=\"0 0 24 24\"\n",
              "       width=\"24px\">\n",
              "    <path d=\"M0 0h24v24H0V0z\" fill=\"none\"/>\n",
              "    <path d=\"M18.56 5.44l.94 2.06.94-2.06 2.06-.94-2.06-.94-.94-2.06-.94 2.06-2.06.94zm-11 1L8.5 8.5l.94-2.06 2.06-.94-2.06-.94L8.5 2.5l-.94 2.06-2.06.94zm10 10l.94 2.06.94-2.06 2.06-.94-2.06-.94-.94-2.06-.94 2.06-2.06.94z\"/><path d=\"M17.41 7.96l-1.37-1.37c-.4-.4-.92-.59-1.43-.59-.52 0-1.04.2-1.43.59L10.3 9.45l-7.72 7.72c-.78.78-.78 2.05 0 2.83L4 21.41c.39.39.9.59 1.41.59.51 0 1.02-.2 1.41-.59l7.78-7.78 2.81-2.81c.8-.78.8-2.07 0-2.86zM5.41 20L4 18.59l7.72-7.72 1.47 1.35L5.41 20z\"/>\n",
              "  </svg>\n",
              "      </button>\n",
              "      \n",
              "  <style>\n",
              "    .colab-df-container {\n",
              "      display:flex;\n",
              "      flex-wrap:wrap;\n",
              "      gap: 12px;\n",
              "    }\n",
              "\n",
              "    .colab-df-convert {\n",
              "      background-color: #E8F0FE;\n",
              "      border: none;\n",
              "      border-radius: 50%;\n",
              "      cursor: pointer;\n",
              "      display: none;\n",
              "      fill: #1967D2;\n",
              "      height: 32px;\n",
              "      padding: 0 0 0 0;\n",
              "      width: 32px;\n",
              "    }\n",
              "\n",
              "    .colab-df-convert:hover {\n",
              "      background-color: #E2EBFA;\n",
              "      box-shadow: 0px 1px 2px rgba(60, 64, 67, 0.3), 0px 1px 3px 1px rgba(60, 64, 67, 0.15);\n",
              "      fill: #174EA6;\n",
              "    }\n",
              "\n",
              "    [theme=dark] .colab-df-convert {\n",
              "      background-color: #3B4455;\n",
              "      fill: #D2E3FC;\n",
              "    }\n",
              "\n",
              "    [theme=dark] .colab-df-convert:hover {\n",
              "      background-color: #434B5C;\n",
              "      box-shadow: 0px 1px 3px 1px rgba(0, 0, 0, 0.15);\n",
              "      filter: drop-shadow(0px 1px 2px rgba(0, 0, 0, 0.3));\n",
              "      fill: #FFFFFF;\n",
              "    }\n",
              "  </style>\n",
              "\n",
              "      <script>\n",
              "        const buttonEl =\n",
              "          document.querySelector('#df-18a4ff10-32f7-411d-aae9-c732a7eb9cbd button.colab-df-convert');\n",
              "        buttonEl.style.display =\n",
              "          google.colab.kernel.accessAllowed ? 'block' : 'none';\n",
              "\n",
              "        async function convertToInteractive(key) {\n",
              "          const element = document.querySelector('#df-18a4ff10-32f7-411d-aae9-c732a7eb9cbd');\n",
              "          const dataTable =\n",
              "            await google.colab.kernel.invokeFunction('convertToInteractive',\n",
              "                                                     [key], {});\n",
              "          if (!dataTable) return;\n",
              "\n",
              "          const docLinkHtml = 'Like what you see? Visit the ' +\n",
              "            '<a target=\"_blank\" href=https://colab.research.google.com/notebooks/data_table.ipynb>data table notebook</a>'\n",
              "            + ' to learn more about interactive tables.';\n",
              "          element.innerHTML = '';\n",
              "          dataTable['output_type'] = 'display_data';\n",
              "          await google.colab.output.renderOutput(dataTable, element);\n",
              "          const docLink = document.createElement('div');\n",
              "          docLink.innerHTML = docLinkHtml;\n",
              "          element.appendChild(docLink);\n",
              "        }\n",
              "      </script>\n",
              "    </div>\n",
              "  </div>\n",
              "  "
            ]
          },
          "metadata": {},
          "execution_count": 98
        }
      ]
    },
    {
      "cell_type": "markdown",
      "source": [
        "### Entrenamiento"
      ],
      "metadata": {
        "id": "gvlhIiSnCq00"
      },
      "id": "gvlhIiSnCq00"
    },
    {
      "cell_type": "markdown",
      "source": [
        "- Librerias"
      ],
      "metadata": {
        "id": "VOk1mmY3FXqc"
      },
      "id": "VOk1mmY3FXqc"
    },
    {
      "cell_type": "code",
      "source": [
        "from sklearn.model_selection import train_test_split\n",
        "from sklearn.feature_extraction.text import CountVectorizer\n",
        "from sklearn.feature_extraction.text import TfidfVectorizer\n",
        "import time\n",
        "from sklearn.naive_bayes import MultinomialNB\n",
        "from sklearn.tree import DecisionTreeClassifier\n",
        "from sklearn.svm import SVC \n",
        "from sklearn.neighbors import KNeighborsClassifier\n",
        "from sklearn.ensemble import RandomForestClassifier\n",
        "from sklearn.metrics import classification_report\n",
        "from sklearn.metrics import confusion_matrix\n",
        "from sklearn.metrics import ConfusionMatrixDisplay\n",
        "import matplotlib.pyplot as plt"
      ],
      "metadata": {
        "id": "WHEMqusOBaTc"
      },
      "id": "WHEMqusOBaTc",
      "execution_count": null,
      "outputs": []
    },
    {
      "cell_type": "markdown",
      "source": [
        "- División de datos"
      ],
      "metadata": {
        "id": "Nwk0jLfeFalF"
      },
      "id": "Nwk0jLfeFalF"
    },
    {
      "cell_type": "code",
      "source": [
        "X = df_aux['lem_text'].values\n",
        "y = df_aux['Class'].values\n",
        "\n",
        "X_train, X_test, y_train, y_test = train_test_split(X,y, test_size = 0.25, random_state = 123)\n",
        "\n",
        "tfidf = TfidfVectorizer()\n",
        "X_train_tfidf = tfidf.fit_transform(X_train)\n",
        "X_test_tfidf = tfidf.transform(X_test)"
      ],
      "metadata": {
        "id": "2ObhJkWmDoHJ"
      },
      "id": "2ObhJkWmDoHJ",
      "execution_count": null,
      "outputs": []
    },
    {
      "cell_type": "code",
      "source": [
        "bayes_pred = MultinomialNB()\n",
        "\n",
        "start = time.time()\n",
        "bayes_pred.fit(X_train_tfidf, y_train)\n",
        "print(\"Tiempo de entrenamiento: \",time.time()-start)"
      ],
      "metadata": {
        "colab": {
          "base_uri": "https://localhost:8080/"
        },
        "id": "o6bKt8EhDFcD",
        "outputId": "0da2290e-0ccf-4920-f0ba-496d88e4a5bb"
      },
      "id": "o6bKt8EhDFcD",
      "execution_count": null,
      "outputs": [
        {
          "output_type": "stream",
          "name": "stdout",
          "text": [
            "Tiempo de entrenamiento:  0.07570910453796387\n"
          ]
        }
      ]
    },
    {
      "cell_type": "code",
      "source": [
        "start = time.time()\n",
        "predictions = bayes_pred.predict(X_test_tfidf)\n",
        "print(\"Tiempo de prediccción: \",time.time()-start)"
      ],
      "metadata": {
        "colab": {
          "base_uri": "https://localhost:8080/"
        },
        "id": "voF9FJ08CaEl",
        "outputId": "d67a3fd0-2ede-4c08-9019-1f34a6fba832"
      },
      "id": "voF9FJ08CaEl",
      "execution_count": null,
      "outputs": [
        {
          "output_type": "stream",
          "name": "stdout",
          "text": [
            "Tiempo de prediccción:  0.01894855499267578\n"
          ]
        }
      ]
    },
    {
      "cell_type": "code",
      "source": [
        "print(classification_report(y_test, predictions))"
      ],
      "metadata": {
        "colab": {
          "base_uri": "https://localhost:8080/"
        },
        "id": "SiZYOKhVDL-W",
        "outputId": "d98b3064-d199-4a8c-d44c-4f2eedd37a1e"
      },
      "id": "SiZYOKhVDL-W",
      "execution_count": null,
      "outputs": [
        {
          "output_type": "stream",
          "name": "stdout",
          "text": [
            "              precision    recall  f1-score   support\n",
            "\n",
            "           0       0.91      0.90      0.90      7448\n",
            "           1       0.95      0.98      0.96      7445\n",
            "           2       0.87      0.87      0.87      7457\n",
            "           3       0.89      0.87      0.88      7342\n",
            "\n",
            "    accuracy                           0.91     29692\n",
            "   macro avg       0.90      0.91      0.90     29692\n",
            "weighted avg       0.90      0.91      0.90     29692\n",
            "\n"
          ]
        }
      ]
    },
    {
      "cell_type": "code",
      "source": [
        "cm = confusion_matrix(y_test, predictions)\n",
        "\n",
        "# plot the confusion matrix\n",
        "disp = ConfusionMatrixDisplay(cm, display_labels=np.unique(y_test))\n",
        "disp.plot()\n",
        "plt.show()"
      ],
      "metadata": {
        "colab": {
          "base_uri": "https://localhost:8080/",
          "height": 449
        },
        "id": "Y8Nlt-FcDOH2",
        "outputId": "58ccc163-d370-4c92-eac0-95e5a339a1e4"
      },
      "id": "Y8Nlt-FcDOH2",
      "execution_count": null,
      "outputs": [
        {
          "output_type": "display_data",
          "data": {
            "text/plain": [
              "<Figure size 640x480 with 2 Axes>"
            ],
            "image/png": "[encoded data removed]"
          },
          "metadata": {}
        }
      ]
    },
    {
      "cell_type": "markdown",
      "source": [
        "## Árbol de Decisión"
      ],
      "metadata": {
        "id": "TZuLew5rHYUS"
      },
      "id": "TZuLew5rHYUS"
    },
    {
      "cell_type": "markdown",
      "source": [
        "### Entrenamiento"
      ],
      "metadata": {
        "id": "AvaO6IB5HezS"
      },
      "id": "AvaO6IB5HezS"
    },
    {
      "cell_type": "code",
      "source": [
        "ClasificacionAD = DecisionTreeClassifier(criterion='gini',random_state=0)\n",
        "\n",
        "start = time.time()\n",
        "ClasificacionAD.fit(X_train_tfidf, y_train)\n",
        "print(\"Tiempo de entrenamiento: \", time.time()-start)"
      ],
      "metadata": {
        "colab": {
          "base_uri": "https://localhost:8080/"
        },
        "id": "kZvrxfOsHiql",
        "outputId": "2a793846-e35d-42a6-ca2d-35b492bc8343"
      },
      "id": "kZvrxfOsHiql",
      "execution_count": null,
      "outputs": [
        {
          "output_type": "stream",
          "name": "stdout",
          "text": [
            "Tiempo de entrenamiento:  87.5254328250885\n"
          ]
        }
      ]
    },
    {
      "cell_type": "code",
      "source": [
        "start = time.time()\n",
        "Y_ClasificacionAD = ClasificacionAD.predict(X_test_tfidf)\n",
        "print(\"Tiempo de predicción: \", time.time()-start)"
      ],
      "metadata": {
        "colab": {
          "base_uri": "https://localhost:8080/"
        },
        "id": "Io137THOHnvr",
        "outputId": "33fbd5fb-492d-497a-bea9-c4018f3c7c6e"
      },
      "id": "Io137THOHnvr",
      "execution_count": null,
      "outputs": [
        {
          "output_type": "stream",
          "name": "stdout",
          "text": [
            "Tiempo de predicción:  0.03453183174133301\n"
          ]
        }
      ]
    },
    {
      "cell_type": "code",
      "source": [
        "print(classification_report(y_test, Y_ClasificacionAD))"
      ],
      "metadata": {
        "colab": {
          "base_uri": "https://localhost:8080/"
        },
        "id": "bbBEauaJHpVn",
        "outputId": "c8ccb0e5-a19f-4efc-981c-954c401f2018"
      },
      "id": "bbBEauaJHpVn",
      "execution_count": null,
      "outputs": [
        {
          "output_type": "stream",
          "name": "stdout",
          "text": [
            "              precision    recall  f1-score   support\n",
            "\n",
            "           0       0.80      0.80      0.80      7448\n",
            "           1       0.85      0.87      0.86      7445\n",
            "           2       0.75      0.75      0.75      7457\n",
            "           3       0.75      0.73      0.74      7342\n",
            "\n",
            "    accuracy                           0.79     29692\n",
            "   macro avg       0.79      0.79      0.79     29692\n",
            "weighted avg       0.79      0.79      0.79     29692\n",
            "\n"
          ]
        }
      ]
    },
    {
      "cell_type": "code",
      "source": [
        "cm = confusion_matrix(y_test, Y_ClasificacionAD)\n",
        "\n",
        "# plot the confusion matrix\n",
        "disp = ConfusionMatrixDisplay(cm, display_labels=np.unique(Y_ClasificacionAD))\n",
        "disp.plot()\n",
        "plt.show()"
      ],
      "metadata": {
        "colab": {
          "base_uri": "https://localhost:8080/",
          "height": 449
        },
        "id": "sHLL61SGHr_z",
        "outputId": "cb42a1ad-1703-4106-f10e-47ace9d15465"
      },
      "id": "sHLL61SGHr_z",
      "execution_count": null,
      "outputs": [
        {
          "output_type": "display_data",
          "data": {
            "text/plain": [
              "<Figure size 640x480 with 2 Axes>"
            ],
            "image/png": "[encoded data removed]"
          },
          "metadata": {}
        }
      ]
    },
    {
      "cell_type": "markdown",
      "source": [
        "## Support Vector Machines"
      ],
      "metadata": {
        "id": "SM964G0FJb8w"
      },
      "id": "SM964G0FJb8w"
    },
    {
      "cell_type": "markdown",
      "source": [
        "### Entrenamiento"
      ],
      "metadata": {
        "id": "rMWVzo_OJmRB"
      },
      "id": "rMWVzo_OJmRB"
    },
    {
      "cell_type": "code",
      "source": [
        "ModeloSVM_1 = SVC(kernel='linear')\n",
        "\n",
        "start = time.time()\n",
        "ModeloSVM_1.fit(X_train_tfidf, y_train)\n",
        "print(\"Tiempo de entrenamiento: \",time.time()-start)"
      ],
      "metadata": {
        "colab": {
          "base_uri": "https://localhost:8080/"
        },
        "id": "EZYAs8z_Jpg5",
        "outputId": "f9375a18-8fe7-4865-830c-e7077c58ad3f"
      },
      "id": "EZYAs8z_Jpg5",
      "execution_count": null,
      "outputs": [
        {
          "output_type": "stream",
          "name": "stdout",
          "text": [
            "Tiempo de entrenamiento:  1541.8182644844055\n"
          ]
        }
      ]
    },
    {
      "cell_type": "code",
      "source": [
        "start = time.time()\n",
        "Clasificaciones_1 = ModeloSVM_1.predict(X_test_tfidf)\n",
        "print(\"Tiempo de predicción: \",time.time()-start)"
      ],
      "metadata": {
        "colab": {
          "base_uri": "https://localhost:8080/"
        },
        "id": "aLo_88FWKqXp",
        "outputId": "2d1c16f1-7be0-4237-83e6-fe72f3badc1e"
      },
      "id": "aLo_88FWKqXp",
      "execution_count": null,
      "outputs": [
        {
          "output_type": "stream",
          "name": "stdout",
          "text": [
            "Tiempo de predicción:  202.22921657562256\n"
          ]
        }
      ]
    },
    {
      "cell_type": "code",
      "source": [
        "print(classification_report(y_test, Clasificaciones_1))"
      ],
      "metadata": {
        "colab": {
          "base_uri": "https://localhost:8080/"
        },
        "id": "UeQ8lXgNKx54",
        "outputId": "62a09226-212c-4b1c-98b0-9b475c6eca9b"
      },
      "id": "UeQ8lXgNKx54",
      "execution_count": null,
      "outputs": [
        {
          "output_type": "stream",
          "name": "stdout",
          "text": [
            "              precision    recall  f1-score   support\n",
            "\n",
            "           0       0.93      0.90      0.92      7448\n",
            "           1       0.96      0.98      0.97      7445\n",
            "           2       0.89      0.89      0.89      7457\n",
            "           3       0.89      0.90      0.90      7342\n",
            "\n",
            "    accuracy                           0.92     29692\n",
            "   macro avg       0.92      0.92      0.92     29692\n",
            "weighted avg       0.92      0.92      0.92     29692\n",
            "\n"
          ]
        }
      ]
    },
    {
      "cell_type": "code",
      "source": [
        "cm = confusion_matrix(y_test, Clasificaciones_1)\n",
        "\n",
        "# plot the confusion matrix\n",
        "disp = ConfusionMatrixDisplay(cm, display_labels=np.unique(Clasificaciones_1))\n",
        "disp.plot()\n",
        "plt.show()"
      ],
      "metadata": {
        "colab": {
          "base_uri": "https://localhost:8080/",
          "height": 449
        },
        "id": "ZdCiNL6CKz9B",
        "outputId": "daa3f8bc-9504-426b-f5e2-cfce5264debd"
      },
      "id": "ZdCiNL6CKz9B",
      "execution_count": null,
      "outputs": [
        {
          "output_type": "display_data",
          "data": {
            "text/plain": [
              "<Figure size 640x480 with 2 Axes>"
            ],
            "image/png": "[encoded data removed]"
          },
          "metadata": {}
        }
      ]
    },
    {
      "cell_type": "markdown",
      "source": [
        "## K-Nearest Neighbors (KNN)"
      ],
      "metadata": {
        "id": "fnjoczCER4m5"
      },
      "id": "fnjoczCER4m5"
    },
    {
      "cell_type": "markdown",
      "source": [
        "### Entrenamiento"
      ],
      "metadata": {
        "id": "4gGlIz8jR9zH"
      },
      "id": "4gGlIz8jR9zH"
    },
    {
      "cell_type": "code",
      "source": [
        "KNN_pred = KNeighborsClassifier()\n",
        "\n",
        "start = time.time()\n",
        "KNN_pred.fit(X_train_tfidf, y_train)\n",
        "print(\"Tiempo de entrenamiento: \", time.time() - start)"
      ],
      "metadata": {
        "colab": {
          "base_uri": "https://localhost:8080/"
        },
        "id": "CjUrooG-SBKx",
        "outputId": "3c4575c7-c34c-422e-836b-6ff644bc2eca"
      },
      "id": "CjUrooG-SBKx",
      "execution_count": null,
      "outputs": [
        {
          "output_type": "stream",
          "name": "stdout",
          "text": [
            "Tiempo de entrenamiento:  0.017206907272338867\n"
          ]
        }
      ]
    },
    {
      "cell_type": "code",
      "source": [
        "start = time.time()\n",
        "predictions = KNN_pred.predict(X_test_tfidf)\n",
        "print(\"Tiempo de predicción: \", time.time() - start)"
      ],
      "metadata": {
        "colab": {
          "base_uri": "https://localhost:8080/"
        },
        "id": "0PeHreXiSLcE",
        "outputId": "b64f7c5d-2b7f-4071-c635-00808d812916"
      },
      "id": "0PeHreXiSLcE",
      "execution_count": null,
      "outputs": [
        {
          "output_type": "stream",
          "name": "stdout",
          "text": [
            "Tiempo de predicción:  1456.6211347579956\n"
          ]
        }
      ]
    },
    {
      "cell_type": "code",
      "source": [
        "print(classification_report(y_test, predictions))"
      ],
      "metadata": {
        "colab": {
          "base_uri": "https://localhost:8080/"
        },
        "id": "F3NsVdS6SNYA",
        "outputId": "93a40098-cf94-43b3-b778-bd606d9169d0"
      },
      "id": "F3NsVdS6SNYA",
      "execution_count": null,
      "outputs": [
        {
          "output_type": "stream",
          "name": "stdout",
          "text": [
            "              precision    recall  f1-score   support\n",
            "\n",
            "           0       0.90      0.89      0.90      7448\n",
            "           1       0.94      0.97      0.95      7445\n",
            "           2       0.86      0.87      0.87      7457\n",
            "           3       0.89      0.85      0.87      7342\n",
            "\n",
            "    accuracy                           0.90     29692\n",
            "   macro avg       0.90      0.90      0.90     29692\n",
            "weighted avg       0.90      0.90      0.90     29692\n",
            "\n"
          ]
        }
      ]
    },
    {
      "cell_type": "code",
      "source": [
        "cm = confusion_matrix(y_test, predictions)\n",
        "\n",
        "# Plot the confusion matrix\n",
        "disp = ConfusionMatrixDisplay(cm, display_labels=np.unique(y_test))\n",
        "disp.plot()\n",
        "plt.show()"
      ],
      "metadata": {
        "colab": {
          "base_uri": "https://localhost:8080/",
          "height": 449
        },
        "id": "KVyXtLWsSPHr",
        "outputId": "3b6c063e-6226-4941-96c4-65a2b9e5cc5c"
      },
      "id": "KVyXtLWsSPHr",
      "execution_count": null,
      "outputs": [
        {
          "output_type": "display_data",
          "data": {
            "text/plain": [
              "<Figure size 640x480 with 2 Axes>"
            ],
            "image/png": "[encoded data removed]"
          },
          "metadata": {}
        }
      ]
    },
    {
      "cell_type": "markdown",
      "source": [
        "## Ramdom forest"
      ],
      "metadata": {
        "id": "vIs6SZcYUuyx"
      },
      "id": "vIs6SZcYUuyx"
    },
    {
      "cell_type": "markdown",
      "source": [
        "### Entrenamiento"
      ],
      "metadata": {
        "id": "OT4hjJ2hUxKA"
      },
      "id": "OT4hjJ2hUxKA"
    },
    {
      "cell_type": "code",
      "source": [
        "ClasificacionRF = RandomForestClassifier(criterion='gini', random_state=0)\n",
        "\n",
        "start = time.time()\n",
        "ClasificacionRF.fit(X_train_tfidf, y_train)\n",
        "print(\"Tiempo de entrenamiento: \", time.time() - start)"
      ],
      "metadata": {
        "colab": {
          "base_uri": "https://localhost:8080/"
        },
        "id": "v_eE4oBvU0xG",
        "outputId": "eb6d4e03-a9ef-4da0-ecad-38640a6d41be"
      },
      "id": "v_eE4oBvU0xG",
      "execution_count": null,
      "outputs": [
        {
          "output_type": "stream",
          "name": "stdout",
          "text": [
            "Tiempo de entrenamiento:  475.50550413131714\n"
          ]
        }
      ]
    },
    {
      "cell_type": "code",
      "source": [
        "start = time.time()\n",
        "Y_ClasificacionRF = ClasificacionRF.predict(X_test_tfidf)\n",
        "print(\"Tiempo de predicción: \", time.time() - start)"
      ],
      "metadata": {
        "colab": {
          "base_uri": "https://localhost:8080/"
        },
        "id": "HRcOF8kcU31c",
        "outputId": "2a1cb942-41bb-41ad-d78b-986ce65c4db9"
      },
      "id": "HRcOF8kcU31c",
      "execution_count": null,
      "outputs": [
        {
          "output_type": "stream",
          "name": "stdout",
          "text": [
            "Tiempo de predicción:  2.5400304794311523\n"
          ]
        }
      ]
    },
    {
      "cell_type": "code",
      "source": [
        "print(classification_report(y_test, Y_ClasificacionRF))"
      ],
      "metadata": {
        "colab": {
          "base_uri": "https://localhost:8080/"
        },
        "id": "BO2lS0eiU5ip",
        "outputId": "3ffafff9-b02f-4460-f776-048148434f7e"
      },
      "id": "BO2lS0eiU5ip",
      "execution_count": null,
      "outputs": [
        {
          "output_type": "stream",
          "name": "stdout",
          "text": [
            "              precision    recall  f1-score   support\n",
            "\n",
            "           0       0.92      0.88      0.90      7448\n",
            "           1       0.92      0.97      0.95      7445\n",
            "           2       0.87      0.86      0.86      7457\n",
            "           3       0.87      0.86      0.86      7342\n",
            "\n",
            "    accuracy                           0.89     29692\n",
            "   macro avg       0.89      0.89      0.89     29692\n",
            "weighted avg       0.89      0.89      0.89     29692\n",
            "\n"
          ]
        }
      ]
    },
    {
      "cell_type": "code",
      "source": [
        "cm = confusion_matrix(y_test, Y_ClasificacionRF)\n",
        "\n",
        "# Plot the confusion matrix\n",
        "disp = ConfusionMatrixDisplay(cm, display_labels=np.unique(Y_ClasificacionRF))\n",
        "disp.plot()\n",
        "plt.show()"
      ],
      "metadata": {
        "colab": {
          "base_uri": "https://localhost:8080/"
        },
        "id": "23dILl7RU7Br",
        "outputId": "3f4e8a6c-a0db-4768-c6fd-9b326937328c"
      },
      "id": "23dILl7RU7Br",
      "execution_count": null,
      "outputs": [
        {
          "output_type": "display_data",
          "data": {
            "text/plain": [
              "<Figure size 640x480 with 2 Axes>"
            ],
            "image/png": "[encoded data removed]"
          },
          "metadata": {}
        }
      ]
    },
    {
      "cell_type": "markdown",
      "source": [
        "## Conclusiones"
      ],
      "metadata": {
        "id": "x61ocCJl5Byo"
      },
      "id": "x61ocCJl5Byo"
    },
    {
      "cell_type": "markdown",
      "source": [
        "Me gustó mucho el proyecto, me divertí y aprendí."
      ],
      "metadata": {
        "id": "eN18knWCVf5J"
      },
      "id": "eN18knWCVf5J"
    },
    {
      "cell_type": "markdown",
      "source": [
        "## Referencias"
      ],
      "metadata": {
        "id": "Mx1gPUDnj_yv"
      },
      "id": "Mx1gPUDnj_yv"
    },
    {
      "cell_type": "markdown",
      "source": [
        "- https://www.kaggle.com/datasets/amananandrai/ag-news-classification-dataset?select=train.csv\n",
        "\n",
        "- https://www.tensorflow.org/api_docs/python/tf/data/Dataset#map\n",
        "\n",
        "- https://www.tensorflow.org/api_docs/python/tf/keras/Model\n",
        "\n",
        "- https://www.tensorflow.org/api_docs/python/tf/keras/callbacks/ModelCheckpoint\n",
        "\n",
        "- https://www.tensorflow.org/api_docs/python/tf/keras/layers/Dropout\n",
        "\n",
        "- https://www.tensorflow.org/guide/keras/train_and_evaluate"
      ],
      "metadata": {
        "id": "Fn_6OS9fkD0k"
      },
      "id": "Fn_6OS9fkD0k"
    }
  ],
  "metadata": {
    "kernelspec": {
      "display_name": "Python 3",
      "name": "python3"
    },
    "language_info": {
      "codemirror_mode": {
        "name": "ipython",
        "version": 3
      },
      "file_extension": ".py",
      "mimetype": "text/x-python",
      "name": "python",
      "nbconvert_exporter": "python",
      "pygments_lexer": "ipython3",
      "version": "3.9.16"
    },
    "colab": {
      "provenance": [],
      "toc_visible": true,
      "gpuType": "T4"
    },
    "accelerator": "GPU"
  },
  "nbformat": 4,
  "nbformat_minor": 5
}